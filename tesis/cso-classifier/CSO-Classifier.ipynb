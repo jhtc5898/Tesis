{
 "cells": [
  {
   "cell_type": "markdown",
   "metadata": {},
   "source": [
    "# Loading Libraries"
   ]
  },
  {
   "cell_type": "code",
   "execution_count": null,
   "metadata": {},
   "outputs": [],
   "source": [
    "import cso_classifier as cc\n",
    "\n",
    "import json"
   ]
  },
  {
   "cell_type": "markdown",
   "metadata": {},
   "source": [
    "# Loading Paper"
   ]
  },
  {
   "cell_type": "code",
   "execution_count": null,
   "metadata": {},
   "outputs": [],
   "source": [
    "paper = {\n",
    "        \"title\": \"De-anonymizing Social Networks\",\n",
    "        \"abstract\": \"Operators of online social networks are increasingly sharing potentially \"\n",
    "        \"sensitive information about users and their relationships with advertisers, application \"\n",
    "        \"developers, and data-mining researchers. Privacy is typically protected by anonymization, \"\n",
    "        \"i.e., removing names, addresses, etc. We present a framework for analyzing privacy and \"\n",
    "        \"anonymity in social networks and develop a new re-identification algorithm targeting \"\n",
    "        \"anonymized social-network graphs. To demonstrate its effectiveness on real-world networks, \"\n",
    "        \"we show that a third of the users who can be verified to have accounts on both Twitter, a \"\n",
    "        \"popular microblogging service, and Flickr, an online photo-sharing site, can be re-identified \"\n",
    "        \"in the anonymous Twitter graph with only a 12% error rate. Our de-anonymization algorithm is \"\n",
    "        \"based purely on the network topology, does not require creation of a large number of dummy \"\n",
    "        \"\\\"sybil\\\" nodes, is robust to noise and all existing defenses, and works even when the overlap \"\n",
    "        \"between the target network and the adversary's auxiliary information is small.\",\n",
    "        \"keywords\": \"data mining, data privacy, graph theory, social networking (online)\"\n",
    "        }\n",
    "\n",
    "        \n",
    "\n",
    "from IPython.display import display, HTML\n",
    "\n",
    "display(HTML('<h1>'+paper[\"title\"]+'</h1>'))\n",
    "display(HTML('<p><strong>Abstract:</strong> '+paper[\"abstract\"]+'</p>'))\n",
    "display(HTML('<p><strong>Keywords:</strong> <i>'+paper[\"keywords\"]+'</i></p>'))"
   ]
  },
  {
   "cell_type": "markdown",
   "metadata": {},
   "source": [
    "# Run Classifier"
   ]
  },
  {
   "cell_type": "code",
   "execution_count": null,
   "metadata": {},
   "outputs": [],
   "source": [
    "result = cc.run_cso_classifier(paper)"
   ]
  },
  {
   "cell_type": "markdown",
   "metadata": {},
   "source": [
    "# Printing and Saving"
   ]
  },
  {
   "cell_type": "code",
   "execution_count": null,
   "metadata": {
    "scrolled": true
   },
   "outputs": [],
   "source": [
    "print(result)\n",
    "\n",
    "with open('output.json', 'w') as outfile:\n",
    "    json.dump(result, outfile, indent=4)"
   ]
  }
 ],
 "metadata": {
  "kernelspec": {
   "display_name": "Python 3",
   "language": "python",
   "name": "python3"
  },
  "language_info": {
   "codemirror_mode": {
    "name": "ipython",
    "version": 3
   },
   "file_extension": ".py",
   "mimetype": "text/x-python",
   "name": "python",
   "nbconvert_exporter": "python",
   "pygments_lexer": "ipython3",
   "version": "3.7.5"
  }
 },
 "nbformat": 4,
 "nbformat_minor": 2
}
