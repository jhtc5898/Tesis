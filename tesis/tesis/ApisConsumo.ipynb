{
 "cells": [
  {
   "cell_type": "code",
   "execution_count": 1,
   "metadata": {},
   "outputs": [],
   "source": [
    "from pyscopus import Scopus\n",
    "import pandas as pd\n",
    "import requests\n",
    "import xmltodict, json\n",
    "\n",
    "\n",
    "from lxml import etree\n",
    "import requests\n",
    "import xmltodict, json\n",
    "\n",
    "from bs4 import BeautifulSoup\n",
    "import numpy as np"
   ]
  },
  {
   "cell_type": "code",
   "execution_count": 2,
   "metadata": {},
   "outputs": [
    {
     "name": "stdout",
     "output_type": "stream",
     "text": [
      "Ingrese el dato a buscar:\n",
      "medicine\n"
     ]
    }
   ],
   "source": [
    "print(\"Ingrese el dato a buscar:\")\n",
    "busqueda = input()"
   ]
  },
  {
   "cell_type": "markdown",
   "metadata": {},
   "source": [
    "# Consumo API de SCOPUS"
   ]
  },
  {
   "cell_type": "code",
   "execution_count": 3,
   "metadata": {},
   "outputs": [],
   "source": [
    "key = '0387c7142db3254ed53c09c131ecf8c0'\n",
    "scopus = Scopus(key)\n",
    "search_df = scopus.search(\"ALL(\"+busqueda+\")\", count=100)"
   ]
  },
  {
   "cell_type": "markdown",
   "metadata": {},
   "source": [
    "# Consumo API de DOAJ"
   ]
  },
  {
   "cell_type": "code",
   "execution_count": 4,
   "metadata": {},
   "outputs": [],
   "source": [
    "#pasar a ingles \n",
    "#funciona con el spacio \n",
    "url = 'https://www.doaj.org/api/v2/search/articles/all('+busqueda+')?pageSize=100'\n",
    "headers = {'Content-Type': 'application/json;charset=UTF-8', 'Access-Control-Allow-Origin': '*'}\n",
    "r = requests.get(url, headers=headers)"
   ]
  },
  {
   "cell_type": "code",
   "execution_count": 5,
   "metadata": {},
   "outputs": [],
   "source": [
    "#Consumo API de propiedad Inletectual"
   ]
  },
  {
   "cell_type": "code",
   "execution_count": 6,
   "metadata": {},
   "outputs": [],
   "source": [
    "#api lenta \n",
    "#funciona con spacio \n",
    "#ingle\n",
    "url_uspto = 'https://developer.uspto.gov/ibd-api/v1/application/publications?searchText='+busqueda+'&start=0&rows=100'\n",
    "headers_uspto = {'Content-Type': 'application/json;charset=UTF-8', 'Access-Control-Allow-Origin': '*'}\n",
    "r2_uspto = requests.get(url_uspto, headers=headers_uspto) "
   ]
  },
  {
   "cell_type": "code",
   "execution_count": 7,
   "metadata": {},
   "outputs": [],
   "source": [
    "#Consumo API deProQuest"
   ]
  },
  {
   "cell_type": "code",
   "execution_count": 8,
   "metadata": {},
   "outputs": [],
   "source": [
    "access_token = '8461684a-5a79-407c-9321-93d8d719ddeb'\n",
    "headers = {\n",
    "    'Content-type': 'text/xml',\n",
    "    'Authorization': 'Bearer {}'.format(access_token)\n",
    "}\n",
    "data = '<searchRequest><search><query>'+busqueda+'</query><databases><database>medlineprof</database></databases></search><count>100</count></searchRequest>'\n",
    "resp = requests.post('https://api-dialog.proquest.com/v1/search', headers=headers, data=data)\n",
    "o = xmltodict.parse(resp.text)\n",
    "conta = json.dumps(o)\n",
    "d = json.loads(conta)\n"
   ]
  },
  {
   "cell_type": "code",
   "execution_count": 9,
   "metadata": {},
   "outputs": [],
   "source": [
    "#Consumo API de IEEEXPLORE"
   ]
  },
  {
   "cell_type": "code",
   "execution_count": 10,
   "metadata": {},
   "outputs": [],
   "source": [
    "#funciona con spacio \n",
    "#debe estar en ingles \n",
    "\n",
    "url_ieeexplore = 'http://ieeexploreapi.ieee.org/api/v1/search/articles?apikey=3dyyvg36jv78dbuu83q3fzzt&format=json&max_records=200&start_record=1&sort_order=asc&sort_field=article_number&querytext='+busqueda\n",
    "headers_ieeexplore = {'Content-Type': 'application/json;charset=UTF-8', 'Access-Control-Allow-Origin': '*'}\n",
    "r_ieeexplore = requests.get(url_ieeexplore, headers=headers_ieeexplore)"
   ]
  },
  {
   "cell_type": "code",
   "execution_count": 11,
   "metadata": {},
   "outputs": [],
   "source": [
    "#Consumo Google Noticas"
   ]
  },
  {
   "cell_type": "code",
   "execution_count": 12,
   "metadata": {},
   "outputs": [],
   "source": [
    "busqueda =busqueda.replace(\" \", \"+\")\n",
    "res = requests.get('https://www.google.com/search?q='+busqueda+'+&biw=1064&bih=1034&tbm=nws&sxsrf=ALeKk012okzl46BThz3OHzeulw_CfNeALg%3A1620065628921&ei=XD2QYN2hN52y5NoP88anwAw&oq='+busqueda+'+&gs_l=psy-ab.3...1712.7789.0.7910.36.29.2.0.0.0.336.3435.0j13j5j1.20.0....0...1c.1.64.psy-ab..15.11.1630.0..0.124.YgObgGkRCac')\n",
    "soup = BeautifulSoup(res.text, 'lxml')"
   ]
  },
  {
   "cell_type": "code",
   "execution_count": 13,
   "metadata": {},
   "outputs": [],
   "source": [
    "#Declaracion \n",
    "listalinks = list()\n",
    "listatitulos = list()\n",
    "listabstract = list()\n",
    "listautor= list()\n",
    "listakeywords = list()\n",
    "listafuente = list()\n"
   ]
  },
  {
   "cell_type": "code",
   "execution_count": 14,
   "metadata": {},
   "outputs": [
    {
     "name": "stdout",
     "output_type": "stream",
     "text": [
      "Error sin abstract\n",
      "Error sin abstract\n"
     ]
    }
   ],
   "source": [
    "#Consumo api  de propiedad intelectual sobre titulo,url,abstract,nombre(uspto)\n",
    "content_ieeexplore = r_ieeexplore.json()\n",
    "json_ieeexplore = content_ieeexplore['articles']\n",
    "for i in range(len(json_ieeexplore)):\n",
    "    try:\n",
    "        listabstract.append(json_ieeexplore[i]['abstract'])\n",
    "        listatitulos.append(json_ieeexplore[i]['title'])\n",
    "        listalinks.append(json_ieeexplore[i]['pdf_url'])\n",
    "        aux=list()\n",
    "        for j in range(len(json_ieeexplore[i]['authors']['authors'])):\n",
    "            aux.append(json_ieeexplore[i]['authors']['authors'][j]['full_name'])\n",
    "        listautor.append(aux)\n",
    "        try:\n",
    "            listakeywords.append(json_ieeexplore[i]['index_terms']['ieee_terms']['terms'])\n",
    "        except:\n",
    "            listakeywords.append('0')    \n",
    "        listafuente.append('ieeexplore')   \n",
    "    except:\n",
    "        print(\"Error sin abstract\")"
   ]
  },
  {
   "cell_type": "code",
   "execution_count": 15,
   "metadata": {},
   "outputs": [
    {
     "name": "stdout",
     "output_type": "stream",
     "text": [
      "link 198  title  198 abstract  198  authors  198  keywords  198 fuente 198\n"
     ]
    }
   ],
   "source": [
    "print('link',len(listalinks),' title ',len(listatitulos),'abstract ',len(listabstract),' authors ',len(listautor),\" keywords \",len(listakeywords),'fuente', len(listafuente))"
   ]
  },
  {
   "cell_type": "code",
   "execution_count": 16,
   "metadata": {},
   "outputs": [],
   "source": [
    "#Consumo api  de propiedad intelectual sobre titulo,url,abstract,nombre(uspto)\n",
    "content_uspto = r2_uspto.json()\n",
    "json_uspto = content_uspto['results']\n",
    "\n",
    "for i in range(len(json_uspto)):\n",
    "    try:\n",
    "\n",
    "        listakeywords.append(0)\n",
    "        listafuente.append(\"uspto\")\n",
    "        listatitulos.append(json_uspto[i]['inventionTitle'])\n",
    "        listalinks.append(json_uspto[i]['filelocationURI'])\n",
    "        listabstract.append(nivel3)\n",
    "        listautor.append(json_uspto[i]['abstractText'][0])\n",
    "    except:\n",
    "        listautor.append('NULL')\n",
    "        listabstract.append('NULL')\n"
   ]
  },
  {
   "cell_type": "code",
   "execution_count": 17,
   "metadata": {},
   "outputs": [
    {
     "name": "stdout",
     "output_type": "stream",
     "text": [
      "link 288  title  288 abstract  288  authors  288  keywords  288 fuente 288\n"
     ]
    }
   ],
   "source": [
    "print('link',len(listalinks),' title ',len(listatitulos),'abstract ',len(listabstract),' authors ',len(listautor),\" keywords \",len(listakeywords),'fuente', len(listafuente))"
   ]
  },
  {
   "cell_type": "code",
   "execution_count": 18,
   "metadata": {},
   "outputs": [
    {
     "name": "stdout",
     "output_type": "stream",
     "text": [
      "\n",
      "\n",
      "\n",
      "\n",
      "\n",
      "\n",
      "\n",
      "\n",
      "\n",
      "\n",
      "\n",
      "\n",
      "\n",
      "\n",
      "\n",
      "\n",
      "\n",
      "\n",
      "\n",
      "\n",
      "\n",
      "\n",
      "\n",
      "\n",
      "\n",
      "\n",
      "\n"
     ]
    }
   ],
   "source": [
    "#Consumo api  de doaj sobre titulo,url,abstract,author(uspto),keywords\n",
    "content = r.json()\n",
    "#Ingreso al contenido\n",
    "json = content['results']\n",
    "\n",
    "for i in range(len(json)):\n",
    "    try:\n",
    "        listakeywords.append(json[i]['bibjson']['keywords'])\n",
    "        listalinks.append(json[i]['bibjson']['link'][0]['url'])\n",
    "        listatitulos.append(json[i]['bibjson']['title'])\n",
    "        listabstract.append(json[i]['bibjson']['abstract'])\n",
    "        listautor.append(json[i]['bibjson']['author'])\n",
    "        listafuente.append(\"doaj\")\n",
    "    except:\n",
    "        print(\"\")"
   ]
  },
  {
   "cell_type": "code",
   "execution_count": 19,
   "metadata": {},
   "outputs": [
    {
     "name": "stdout",
     "output_type": "stream",
     "text": [
      "link 361  title  361 abstract  361  authors  361  keywords  361 fuente 361\n"
     ]
    }
   ],
   "source": [
    "print('link',len(listalinks),' title ',len(listatitulos),'abstract ',len(listabstract),' authors ',len(listautor),\" keywords \",len(listakeywords),'fuente', len(listafuente))"
   ]
  },
  {
   "cell_type": "code",
   "execution_count": 20,
   "metadata": {},
   "outputs": [
    {
     "name": "stdout",
     "output_type": "stream",
     "text": [
      " \n",
      " \n",
      " \n",
      " \n",
      " \n",
      " \n",
      " \n",
      " \n",
      " \n",
      " \n",
      " \n",
      " \n",
      " \n",
      " \n",
      " \n",
      " \n",
      " \n",
      " \n",
      " \n",
      " \n",
      " \n",
      " \n",
      " \n",
      " \n",
      " \n"
     ]
    }
   ],
   "source": [
    "#Consumo api  de SCOPUS sobre titulo,url,abstract,nombre(uspto)\n",
    "for i in range(len(search_df['scopus_id'])):\n",
    "    try:\n",
    "        pub_abs = scopus.retrieve_abstract(search_df['scopus_id'][i])\n",
    "        listabstract.append(pub_abs['abstract'])\n",
    "        listalinks.append(\"https://www.scopus.com/inward/record.uri?partnerID=HzOxMe3b&scp=\"+search_df['scopus_id'][i]+\"&origin=inward\")\n",
    "        listatitulos.append(search_df['title'][i])\n",
    "        listautor.append(search_df['authors'][i])\n",
    "        listakeywords.append(\"0\")\n",
    "        listafuente.append(\"scopus\")\n",
    "    except:\n",
    "        print(\" \")"
   ]
  },
  {
   "cell_type": "code",
   "execution_count": 21,
   "metadata": {},
   "outputs": [
    {
     "name": "stdout",
     "output_type": "stream",
     "text": [
      "link 436  title  436 abstract  436  authors  436  keywords  436 fuente 436\n"
     ]
    }
   ],
   "source": [
    "print('link',len(listalinks),' title ',len(listatitulos),'abstract ',len(listabstract),' authors ',len(listautor),\" keywords \",len(listakeywords),'fuente', len(listafuente))"
   ]
  },
  {
   "cell_type": "code",
   "execution_count": 22,
   "metadata": {},
   "outputs": [
    {
     "ename": "InvalidURL",
     "evalue": "Failed to parse: MEDLINE®; 1946-1989",
     "output_type": "error",
     "traceback": [
      "\u001b[0;31m---------------------------------------------------------------------------\u001b[0m",
      "\u001b[0;31mLocationParseError\u001b[0m                        Traceback (most recent call last)",
      "\u001b[0;32m~/anaconda3/lib/python3.8/site-packages/requests/models.py\u001b[0m in \u001b[0;36mprepare_url\u001b[0;34m(self, url, params)\u001b[0m\n\u001b[1;32m    378\u001b[0m         \u001b[0;32mtry\u001b[0m\u001b[0;34m:\u001b[0m\u001b[0;34m\u001b[0m\u001b[0;34m\u001b[0m\u001b[0m\n\u001b[0;32m--> 379\u001b[0;31m             \u001b[0mscheme\u001b[0m\u001b[0;34m,\u001b[0m \u001b[0mauth\u001b[0m\u001b[0;34m,\u001b[0m \u001b[0mhost\u001b[0m\u001b[0;34m,\u001b[0m \u001b[0mport\u001b[0m\u001b[0;34m,\u001b[0m \u001b[0mpath\u001b[0m\u001b[0;34m,\u001b[0m \u001b[0mquery\u001b[0m\u001b[0;34m,\u001b[0m \u001b[0mfragment\u001b[0m \u001b[0;34m=\u001b[0m \u001b[0mparse_url\u001b[0m\u001b[0;34m(\u001b[0m\u001b[0murl\u001b[0m\u001b[0;34m)\u001b[0m\u001b[0;34m\u001b[0m\u001b[0;34m\u001b[0m\u001b[0m\n\u001b[0m\u001b[1;32m    380\u001b[0m         \u001b[0;32mexcept\u001b[0m \u001b[0mLocationParseError\u001b[0m \u001b[0;32mas\u001b[0m \u001b[0me\u001b[0m\u001b[0;34m:\u001b[0m\u001b[0;34m\u001b[0m\u001b[0;34m\u001b[0m\u001b[0m\n",
      "\u001b[0;32m~/anaconda3/lib/python3.8/site-packages/urllib3/util/url.py\u001b[0m in \u001b[0;36mparse_url\u001b[0;34m(url)\u001b[0m\n\u001b[1;32m    391\u001b[0m     \u001b[0;32mexcept\u001b[0m \u001b[0;34m(\u001b[0m\u001b[0mValueError\u001b[0m\u001b[0;34m,\u001b[0m \u001b[0mAttributeError\u001b[0m\u001b[0;34m)\u001b[0m\u001b[0;34m:\u001b[0m\u001b[0;34m\u001b[0m\u001b[0;34m\u001b[0m\u001b[0m\n\u001b[0;32m--> 392\u001b[0;31m         \u001b[0;32mreturn\u001b[0m \u001b[0msix\u001b[0m\u001b[0;34m.\u001b[0m\u001b[0mraise_from\u001b[0m\u001b[0;34m(\u001b[0m\u001b[0mLocationParseError\u001b[0m\u001b[0;34m(\u001b[0m\u001b[0msource_url\u001b[0m\u001b[0;34m)\u001b[0m\u001b[0;34m,\u001b[0m \u001b[0;32mNone\u001b[0m\u001b[0;34m)\u001b[0m\u001b[0;34m\u001b[0m\u001b[0;34m\u001b[0m\u001b[0m\n\u001b[0m\u001b[1;32m    393\u001b[0m \u001b[0;34m\u001b[0m\u001b[0m\n",
      "\u001b[0;32m~/anaconda3/lib/python3.8/site-packages/urllib3/packages/six.py\u001b[0m in \u001b[0;36mraise_from\u001b[0;34m(value, from_value)\u001b[0m\n",
      "\u001b[0;31mLocationParseError\u001b[0m: Failed to parse: MEDLINE®; 1946-1989",
      "\nDuring handling of the above exception, another exception occurred:\n",
      "\u001b[0;31mInvalidURL\u001b[0m                                Traceback (most recent call last)",
      "\u001b[0;32m<ipython-input-22-1b704eac1f18>\u001b[0m in \u001b[0;36m<module>\u001b[0;34m\u001b[0m\n\u001b[1;32m      5\u001b[0m         \u001b[0;31m#TITULO\u001b[0m\u001b[0;34m\u001b[0m\u001b[0;34m\u001b[0m\u001b[0;34m\u001b[0m\u001b[0m\n\u001b[1;32m      6\u001b[0m         \u001b[0mlistatitulos\u001b[0m\u001b[0;34m.\u001b[0m\u001b[0mappend\u001b[0m\u001b[0;34m(\u001b[0m\u001b[0mjson\u001b[0m\u001b[0;34m[\u001b[0m\u001b[0mi\u001b[0m\u001b[0;34m]\u001b[0m\u001b[0;34m[\u001b[0m\u001b[0;34m'field'\u001b[0m\u001b[0;34m]\u001b[0m\u001b[0;34m[\u001b[0m\u001b[0;36m1\u001b[0m\u001b[0;34m]\u001b[0m\u001b[0;34m[\u001b[0m\u001b[0;34m'value'\u001b[0m\u001b[0;34m]\u001b[0m\u001b[0;34m)\u001b[0m\u001b[0;34m\u001b[0m\u001b[0;34m\u001b[0m\u001b[0m\n\u001b[0;32m----> 7\u001b[0;31m         \u001b[0mresponse2\u001b[0m \u001b[0;34m=\u001b[0m \u001b[0mrequests\u001b[0m\u001b[0;34m.\u001b[0m\u001b[0mget\u001b[0m\u001b[0;34m(\u001b[0m\u001b[0mjson\u001b[0m\u001b[0;34m[\u001b[0m\u001b[0mi\u001b[0m\u001b[0;34m]\u001b[0m\u001b[0;34m[\u001b[0m\u001b[0;34m'field'\u001b[0m\u001b[0;34m]\u001b[0m\u001b[0;34m[\u001b[0m\u001b[0;36m3\u001b[0m\u001b[0;34m]\u001b[0m\u001b[0;34m[\u001b[0m\u001b[0;34m'value'\u001b[0m\u001b[0;34m]\u001b[0m\u001b[0;34m,\u001b[0m \u001b[0mheaders\u001b[0m\u001b[0;34m=\u001b[0m\u001b[0mheaders\u001b[0m\u001b[0;34m)\u001b[0m\u001b[0;34m\u001b[0m\u001b[0;34m\u001b[0m\u001b[0m\n\u001b[0m\u001b[1;32m      8\u001b[0m         \u001b[0mo1\u001b[0m \u001b[0;34m=\u001b[0m \u001b[0mxmltodict\u001b[0m\u001b[0;34m.\u001b[0m\u001b[0mparse\u001b[0m\u001b[0;34m(\u001b[0m\u001b[0mresponse2\u001b[0m\u001b[0;34m.\u001b[0m\u001b[0mtext\u001b[0m\u001b[0;34m)\u001b[0m\u001b[0;34m\u001b[0m\u001b[0;34m\u001b[0m\u001b[0m\n\u001b[1;32m      9\u001b[0m \u001b[0;34m\u001b[0m\u001b[0m\n",
      "\u001b[0;32m~/anaconda3/lib/python3.8/site-packages/requests/api.py\u001b[0m in \u001b[0;36mget\u001b[0;34m(url, params, **kwargs)\u001b[0m\n\u001b[1;32m     73\u001b[0m \u001b[0;34m\u001b[0m\u001b[0m\n\u001b[1;32m     74\u001b[0m     \u001b[0mkwargs\u001b[0m\u001b[0;34m.\u001b[0m\u001b[0msetdefault\u001b[0m\u001b[0;34m(\u001b[0m\u001b[0;34m'allow_redirects'\u001b[0m\u001b[0;34m,\u001b[0m \u001b[0;32mTrue\u001b[0m\u001b[0;34m)\u001b[0m\u001b[0;34m\u001b[0m\u001b[0;34m\u001b[0m\u001b[0m\n\u001b[0;32m---> 75\u001b[0;31m     \u001b[0;32mreturn\u001b[0m \u001b[0mrequest\u001b[0m\u001b[0;34m(\u001b[0m\u001b[0;34m'get'\u001b[0m\u001b[0;34m,\u001b[0m \u001b[0murl\u001b[0m\u001b[0;34m,\u001b[0m \u001b[0mparams\u001b[0m\u001b[0;34m=\u001b[0m\u001b[0mparams\u001b[0m\u001b[0;34m,\u001b[0m \u001b[0;34m**\u001b[0m\u001b[0mkwargs\u001b[0m\u001b[0;34m)\u001b[0m\u001b[0;34m\u001b[0m\u001b[0;34m\u001b[0m\u001b[0m\n\u001b[0m\u001b[1;32m     76\u001b[0m \u001b[0;34m\u001b[0m\u001b[0m\n\u001b[1;32m     77\u001b[0m \u001b[0;34m\u001b[0m\u001b[0m\n",
      "\u001b[0;32m~/anaconda3/lib/python3.8/site-packages/requests/api.py\u001b[0m in \u001b[0;36mrequest\u001b[0;34m(method, url, **kwargs)\u001b[0m\n\u001b[1;32m     58\u001b[0m     \u001b[0;31m# cases, and look like a memory leak in others.\u001b[0m\u001b[0;34m\u001b[0m\u001b[0;34m\u001b[0m\u001b[0;34m\u001b[0m\u001b[0m\n\u001b[1;32m     59\u001b[0m     \u001b[0;32mwith\u001b[0m \u001b[0msessions\u001b[0m\u001b[0;34m.\u001b[0m\u001b[0mSession\u001b[0m\u001b[0;34m(\u001b[0m\u001b[0;34m)\u001b[0m \u001b[0;32mas\u001b[0m \u001b[0msession\u001b[0m\u001b[0;34m:\u001b[0m\u001b[0;34m\u001b[0m\u001b[0;34m\u001b[0m\u001b[0m\n\u001b[0;32m---> 60\u001b[0;31m         \u001b[0;32mreturn\u001b[0m \u001b[0msession\u001b[0m\u001b[0;34m.\u001b[0m\u001b[0mrequest\u001b[0m\u001b[0;34m(\u001b[0m\u001b[0mmethod\u001b[0m\u001b[0;34m=\u001b[0m\u001b[0mmethod\u001b[0m\u001b[0;34m,\u001b[0m \u001b[0murl\u001b[0m\u001b[0;34m=\u001b[0m\u001b[0murl\u001b[0m\u001b[0;34m,\u001b[0m \u001b[0;34m**\u001b[0m\u001b[0mkwargs\u001b[0m\u001b[0;34m)\u001b[0m\u001b[0;34m\u001b[0m\u001b[0;34m\u001b[0m\u001b[0m\n\u001b[0m\u001b[1;32m     61\u001b[0m \u001b[0;34m\u001b[0m\u001b[0m\n\u001b[1;32m     62\u001b[0m \u001b[0;34m\u001b[0m\u001b[0m\n",
      "\u001b[0;32m~/anaconda3/lib/python3.8/site-packages/requests/sessions.py\u001b[0m in \u001b[0;36mrequest\u001b[0;34m(self, method, url, params, data, headers, cookies, files, auth, timeout, allow_redirects, proxies, hooks, stream, verify, cert, json)\u001b[0m\n\u001b[1;32m    517\u001b[0m             \u001b[0mhooks\u001b[0m\u001b[0;34m=\u001b[0m\u001b[0mhooks\u001b[0m\u001b[0;34m,\u001b[0m\u001b[0;34m\u001b[0m\u001b[0;34m\u001b[0m\u001b[0m\n\u001b[1;32m    518\u001b[0m         )\n\u001b[0;32m--> 519\u001b[0;31m         \u001b[0mprep\u001b[0m \u001b[0;34m=\u001b[0m \u001b[0mself\u001b[0m\u001b[0;34m.\u001b[0m\u001b[0mprepare_request\u001b[0m\u001b[0;34m(\u001b[0m\u001b[0mreq\u001b[0m\u001b[0;34m)\u001b[0m\u001b[0;34m\u001b[0m\u001b[0;34m\u001b[0m\u001b[0m\n\u001b[0m\u001b[1;32m    520\u001b[0m \u001b[0;34m\u001b[0m\u001b[0m\n\u001b[1;32m    521\u001b[0m         \u001b[0mproxies\u001b[0m \u001b[0;34m=\u001b[0m \u001b[0mproxies\u001b[0m \u001b[0;32mor\u001b[0m \u001b[0;34m{\u001b[0m\u001b[0;34m}\u001b[0m\u001b[0;34m\u001b[0m\u001b[0;34m\u001b[0m\u001b[0m\n",
      "\u001b[0;32m~/anaconda3/lib/python3.8/site-packages/requests/sessions.py\u001b[0m in \u001b[0;36mprepare_request\u001b[0;34m(self, request)\u001b[0m\n\u001b[1;32m    450\u001b[0m \u001b[0;34m\u001b[0m\u001b[0m\n\u001b[1;32m    451\u001b[0m         \u001b[0mp\u001b[0m \u001b[0;34m=\u001b[0m \u001b[0mPreparedRequest\u001b[0m\u001b[0;34m(\u001b[0m\u001b[0;34m)\u001b[0m\u001b[0;34m\u001b[0m\u001b[0;34m\u001b[0m\u001b[0m\n\u001b[0;32m--> 452\u001b[0;31m         p.prepare(\n\u001b[0m\u001b[1;32m    453\u001b[0m             \u001b[0mmethod\u001b[0m\u001b[0;34m=\u001b[0m\u001b[0mrequest\u001b[0m\u001b[0;34m.\u001b[0m\u001b[0mmethod\u001b[0m\u001b[0;34m.\u001b[0m\u001b[0mupper\u001b[0m\u001b[0;34m(\u001b[0m\u001b[0;34m)\u001b[0m\u001b[0;34m,\u001b[0m\u001b[0;34m\u001b[0m\u001b[0;34m\u001b[0m\u001b[0m\n\u001b[1;32m    454\u001b[0m             \u001b[0murl\u001b[0m\u001b[0;34m=\u001b[0m\u001b[0mrequest\u001b[0m\u001b[0;34m.\u001b[0m\u001b[0murl\u001b[0m\u001b[0;34m,\u001b[0m\u001b[0;34m\u001b[0m\u001b[0;34m\u001b[0m\u001b[0m\n",
      "\u001b[0;32m~/anaconda3/lib/python3.8/site-packages/requests/models.py\u001b[0m in \u001b[0;36mprepare\u001b[0;34m(self, method, url, headers, files, data, params, auth, cookies, hooks, json)\u001b[0m\n\u001b[1;32m    311\u001b[0m \u001b[0;34m\u001b[0m\u001b[0m\n\u001b[1;32m    312\u001b[0m         \u001b[0mself\u001b[0m\u001b[0;34m.\u001b[0m\u001b[0mprepare_method\u001b[0m\u001b[0;34m(\u001b[0m\u001b[0mmethod\u001b[0m\u001b[0;34m)\u001b[0m\u001b[0;34m\u001b[0m\u001b[0;34m\u001b[0m\u001b[0m\n\u001b[0;32m--> 313\u001b[0;31m         \u001b[0mself\u001b[0m\u001b[0;34m.\u001b[0m\u001b[0mprepare_url\u001b[0m\u001b[0;34m(\u001b[0m\u001b[0murl\u001b[0m\u001b[0;34m,\u001b[0m \u001b[0mparams\u001b[0m\u001b[0;34m)\u001b[0m\u001b[0;34m\u001b[0m\u001b[0;34m\u001b[0m\u001b[0m\n\u001b[0m\u001b[1;32m    314\u001b[0m         \u001b[0mself\u001b[0m\u001b[0;34m.\u001b[0m\u001b[0mprepare_headers\u001b[0m\u001b[0;34m(\u001b[0m\u001b[0mheaders\u001b[0m\u001b[0;34m)\u001b[0m\u001b[0;34m\u001b[0m\u001b[0;34m\u001b[0m\u001b[0m\n\u001b[1;32m    315\u001b[0m         \u001b[0mself\u001b[0m\u001b[0;34m.\u001b[0m\u001b[0mprepare_cookies\u001b[0m\u001b[0;34m(\u001b[0m\u001b[0mcookies\u001b[0m\u001b[0;34m)\u001b[0m\u001b[0;34m\u001b[0m\u001b[0;34m\u001b[0m\u001b[0m\n",
      "\u001b[0;32m~/anaconda3/lib/python3.8/site-packages/requests/models.py\u001b[0m in \u001b[0;36mprepare_url\u001b[0;34m(self, url, params)\u001b[0m\n\u001b[1;32m    379\u001b[0m             \u001b[0mscheme\u001b[0m\u001b[0;34m,\u001b[0m \u001b[0mauth\u001b[0m\u001b[0;34m,\u001b[0m \u001b[0mhost\u001b[0m\u001b[0;34m,\u001b[0m \u001b[0mport\u001b[0m\u001b[0;34m,\u001b[0m \u001b[0mpath\u001b[0m\u001b[0;34m,\u001b[0m \u001b[0mquery\u001b[0m\u001b[0;34m,\u001b[0m \u001b[0mfragment\u001b[0m \u001b[0;34m=\u001b[0m \u001b[0mparse_url\u001b[0m\u001b[0;34m(\u001b[0m\u001b[0murl\u001b[0m\u001b[0;34m)\u001b[0m\u001b[0;34m\u001b[0m\u001b[0;34m\u001b[0m\u001b[0m\n\u001b[1;32m    380\u001b[0m         \u001b[0;32mexcept\u001b[0m \u001b[0mLocationParseError\u001b[0m \u001b[0;32mas\u001b[0m \u001b[0me\u001b[0m\u001b[0;34m:\u001b[0m\u001b[0;34m\u001b[0m\u001b[0;34m\u001b[0m\u001b[0m\n\u001b[0;32m--> 381\u001b[0;31m             \u001b[0;32mraise\u001b[0m \u001b[0mInvalidURL\u001b[0m\u001b[0;34m(\u001b[0m\u001b[0;34m*\u001b[0m\u001b[0me\u001b[0m\u001b[0;34m.\u001b[0m\u001b[0margs\u001b[0m\u001b[0;34m)\u001b[0m\u001b[0;34m\u001b[0m\u001b[0;34m\u001b[0m\u001b[0m\n\u001b[0m\u001b[1;32m    382\u001b[0m \u001b[0;34m\u001b[0m\u001b[0m\n\u001b[1;32m    383\u001b[0m         \u001b[0;32mif\u001b[0m \u001b[0;32mnot\u001b[0m \u001b[0mscheme\u001b[0m\u001b[0;34m:\u001b[0m\u001b[0;34m\u001b[0m\u001b[0;34m\u001b[0m\u001b[0m\n",
      "\u001b[0;31mInvalidURL\u001b[0m: Failed to parse: MEDLINE®; 1946-1989"
     ]
    }
   ],
   "source": [
    "#Consumo api  de ProQuest sobre titulo,url,abstract,nombre(uspto)\n",
    "json = d['searchResponse']['result']['doc']\n",
    "\n",
    "for i in range(len(json)):\n",
    "        #TITULO\n",
    "        listatitulos.append(json[i]['field'][1]['value'])\n",
    "        response2 = requests.get(json[i]['field'][3]['value'], headers=headers)\n",
    "        o1 = xmltodict.parse(response2.text)\n",
    "        \n",
    "        #LINK\n",
    "        listalinks.append(o1['Documents']['Literature']['DocInfo']['URL'])\n",
    "        \n",
    "        #ABSTRACT\n",
    "        try:\n",
    "            nivel5= o1['Documents']['Literature']['Abstract']\n",
    "            listabstract.append(nivel5.get('#text'))\n",
    "        except:\n",
    "            listabstract.append(\"NULL\")\n",
    "        \n",
    "        #Fuente\n",
    "        listafuente.append('ProQuest')\n",
    "        \n",
    "        \n",
    "        #Authores\n",
    "        try:\n",
    "            contributor=o1['Documents']['Literature']['Contributors']['Contributor']\n",
    "            aux=list()\n",
    "            for i in range(len(contributor)):\n",
    "                if(contributor[i]['@ContribRole']=='Author'):\n",
    "                    aux.append(contributor[i]['NormalizedName']+\" \"+contributor[i]['LastName'])\n",
    "            listautor.append(aux)\n",
    "        except:\n",
    "            listautor.append(\"NULL\")\n",
    "\n",
    "        try:\n",
    "            #Keywords\n",
    "            keywords=o1['Documents']['Literature']['Subjects']['HeadingTerms']['HeadingTerm']\n",
    "            aux=list()\n",
    "            for i in range(len(keywords)):\n",
    "                nivel9=keywords[i]['Heading']\n",
    "                aux.append(nivel9['#text'])\n",
    "            listakeywords.append(aux)\n",
    "        except:\n",
    "            print(\"error key\")\n",
    "            listakeywords.append('0')\n",
    "        "
   ]
  },
  {
   "cell_type": "code",
   "execution_count": null,
   "metadata": {},
   "outputs": [],
   "source": [
    "print('link',len(listalinks),' title ',len(listatitulos),'abstract ',len(listabstract),' authors ',len(listautor),\" keywords \",len(listakeywords),'fuente', len(listafuente))"
   ]
  },
  {
   "cell_type": "code",
   "execution_count": null,
   "metadata": {
    "scrolled": true
   },
   "outputs": [],
   "source": [
    "\n",
    "title_noticias = soup.find_all('div', class_=\"BNeawe vvjwJb AP7Wnd\")\n",
    "for i in range(len(title_noticias)):\n",
    "    print(title_noticias[i].text)\n",
    "    listatitulos.append(title_noticias[i].text)\n",
    "\n",
    " \n",
    "    \n",
    "aux=list()\n",
    "abstract_noticias = soup.find_all('div', class_=\"BNeawe s3v9rd AP7Wnd\")\n",
    "for i in range(len(abstract_noticias)):\n",
    "    abstract_text=abstract_noticias[i].text\n",
    "    abstract1=abstract_text[abstract_text.find(' · ')+3:len(abstract_text)]\n",
    "    limpieza=abstract1.replace('... ','')\n",
    "    limpieza=limpieza.replace('...','')\n",
    "    aux.append(limpieza)\n",
    "    \n",
    "aux=pd.unique(aux)\n",
    "listabstract = np.append(listabstract,aux)\n",
    "\n",
    "aux=list()\n",
    "link_noticas = soup.find_all('div', class_=\"kCrYT\")\n",
    "\n",
    "for link_noticas in link_noticas:\n",
    "    if(str(link_noticas)[35:str(link_noticas).find('&amp')][0:5]=='https'):\n",
    "        aux.append(str(link_noticas)[35:str(link_noticas).find('&amp')])\n",
    "\n",
    "aux=pd.unique(aux)\n",
    "listalinks = np.append(listalinks,aux)\n",
    "\n",
    "\n",
    "author_noticas = soup.find_all('div', class_=\"BNeawe UPmit AP7Wnd\")\n",
    "for i in range(10):\n",
    "    print(author_noticas[i].text)\n",
    "    listautor.append(author_noticas[i].text)\n",
    "    listafuente.append('google noticias')\n",
    "    listakeywords.append('0')\n",
    "\n"
   ]
  },
  {
   "cell_type": "code",
   "execution_count": null,
   "metadata": {},
   "outputs": [],
   "source": [
    "print('link',len(listalinks),' title ',len(listatitulos),'abstract ',len(listabstract),' authors ',len(listautor),\" keywords \",len(listakeywords),'fuente', len(listafuente))"
   ]
  },
  {
   "cell_type": "code",
   "execution_count": null,
   "metadata": {},
   "outputs": [],
   "source": [
    "diccionario ={'link':listalinks ,'title':listatitulos,'abstract':listabstract,'authors':listautor,\"keywords\":listakeywords,'fuente':listafuente}"
   ]
  },
  {
   "cell_type": "code",
   "execution_count": null,
   "metadata": {},
   "outputs": [],
   "source": []
  },
  {
   "cell_type": "code",
   "execution_count": null,
   "metadata": {},
   "outputs": [],
   "source": []
  },
  {
   "cell_type": "code",
   "execution_count": 814,
   "metadata": {},
   "outputs": [
    {
     "name": "stdout",
     "output_type": "stream",
     "text": [
      "                                                  link  \\\n",
      "0    https://ieeexplore.ieee.org/stamp/stamp.jsp?tp...   \n",
      "1    https://ieeexplore.ieee.org/stamp/stamp.jsp?tp...   \n",
      "2    https://ieeexplore.ieee.org/stamp/stamp.jsp?tp...   \n",
      "3    https://ieeexplore.ieee.org/stamp/stamp.jsp?tp...   \n",
      "4    https://ieeexplore.ieee.org/stamp/stamp.jsp?tp...   \n",
      "..                                                 ...   \n",
      "550  https://www.jems.com/news/coeur-dalene-wa-wild...   \n",
      "551  https://www.forbes.com/sites/jeffopperman/2021...   \n",
      "552  https://www.medicaleconomics.com/view/iqvia-st...   \n",
      "553  https://www.mlive.com/news/ann-arbor/2021/05/m...   \n",
      "554  https://www.wsmv.com/news/davidson_county/belm...   \n",
      "\n",
      "                                                 title  \\\n",
      "0    Simulations of foot stability during gait char...   \n",
      "1     Reciprocal EMG control of elbow extension by FES   \n",
      "2    Finite element modeling of electromagnetic sig...   \n",
      "3    Interaction of array of finite electrodes with...   \n",
      "4    Kinematic modeling for the assessment of wheel...   \n",
      "..                                                 ...   \n",
      "550  Coeur d'Alene (WA) Wilderness Medicine Course ...   \n",
      "551               Personalized Medicine For The Planet   \n",
      "552  IQVIA study: World medicine spending to hit $1...   \n",
      "553  Michigan Medicine opens COVID-19 long-haul cli...   \n",
      "554  Belmont to name College of Medicine in honor o...   \n",
      "\n",
      "                                              abstract  \\\n",
      "0    Falls are common among the elderly and often c...   \n",
      "1    Elbow extension is critical in performing acti...   \n",
      "2    Improving the control of artificial arms remai...   \n",
      "3    A hybrid scheme, combining image series and mo...   \n",
      "4    A computer kinematic model was developed to si...   \n",
      "..                                                 ...   \n",
      "550  Wilderness medicine is a relatively new field,...   \n",
      "551  Why are freshwater systems so often overlooked...   \n",
      "552  The global medicine market is expected to reac...   \n",
      "553  Michigan Medicine is establishing clinics to p...   \n",
      "554  College of Medicine at Belmont University enjo...   \n",
      "\n",
      "                                               authors  \\\n",
      "0                                           [A. Gefen]   \n",
      "1                         [J.P. Giuffrida, P.E. Crago]   \n",
      "2    [T.A. Kuiken, N.S. Stoykov, M. Popovic, M. Low...   \n",
      "3           [L.M. Livshitz, J. Mizrahi, P.D. Einziger]   \n",
      "4    [D. Pavec, C.-E. Aubin, R. Aissaoui, F. Parent...   \n",
      "..                                                 ...   \n",
      "550                                               JEMS   \n",
      "551                                             Forbes   \n",
      "552                                  Medical Economics   \n",
      "553                                          MLive.com   \n",
      "554                                           wsmv.com   \n",
      "\n",
      "                                              keywords           fuente  \n",
      "0    [Foot, Senior citizens, Muscles, Stability ana...       ieeexplore  \n",
      "1    [Electromyography, Elbow, Muscles, Spinal cord...       ieeexplore  \n",
      "2    [Finite element methods, Electromagnetic model...       ieeexplore  \n",
      "3    [Electrodes, Biological tissues, Muscles, Mome...       ieeexplore  \n",
      "4    [Kinematics, Wheelchairs, Stability, Biologica...       ieeexplore  \n",
      "..                                                 ...              ...  \n",
      "550                                                  0  google noticias  \n",
      "551                                                  0  google noticias  \n",
      "552                                                  0  google noticias  \n",
      "553                                                  0  google noticias  \n",
      "554                                                  0  google noticias  \n",
      "\n",
      "[555 rows x 6 columns]\n"
     ]
    }
   ],
   "source": [
    "dataset=pd.DataFrame(diccionario)\n",
    "print(dataset)"
   ]
  },
  {
   "cell_type": "code",
   "execution_count": 815,
   "metadata": {},
   "outputs": [],
   "source": [
    "dataset.to_csv('resultado.csv')"
   ]
  },
  {
   "cell_type": "code",
   "execution_count": 466,
   "metadata": {},
   "outputs": [
    {
     "name": "stdout",
     "output_type": "stream",
     "text": [
      "\u001b[H\u001b[2J"
     ]
    }
   ],
   "source": [
    "clear"
   ]
  },
  {
   "cell_type": "code",
   "execution_count": null,
   "metadata": {},
   "outputs": [],
   "source": []
  },
  {
   "cell_type": "code",
   "execution_count": null,
   "metadata": {},
   "outputs": [],
   "source": []
  },
  {
   "cell_type": "code",
   "execution_count": null,
   "metadata": {},
   "outputs": [],
   "source": []
  },
  {
   "cell_type": "code",
   "execution_count": null,
   "metadata": {},
   "outputs": [],
   "source": []
  },
  {
   "cell_type": "code",
   "execution_count": null,
   "metadata": {},
   "outputs": [],
   "source": []
  },
  {
   "cell_type": "code",
   "execution_count": null,
   "metadata": {},
   "outputs": [],
   "source": []
  }
 ],
 "metadata": {
  "kernelspec": {
   "display_name": "Python 3",
   "language": "python",
   "name": "python3"
  },
  "language_info": {
   "codemirror_mode": {
    "name": "ipython",
    "version": 3
   },
   "file_extension": ".py",
   "mimetype": "text/x-python",
   "name": "python",
   "nbconvert_exporter": "python",
   "pygments_lexer": "ipython3",
   "version": "3.8.8"
  }
 },
 "nbformat": 4,
 "nbformat_minor": 4
}
