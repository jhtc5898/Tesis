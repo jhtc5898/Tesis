{
 "cells": [
  {
   "cell_type": "code",
   "execution_count": 41,
   "metadata": {},
   "outputs": [],
   "source": [
    "from pyscopus import Scopus\n",
    "import pandas as pd\n",
    "import requests\n",
    "import xmltodict, json\n",
    "import simplejson\n",
    "\n",
    "from lxml import etree\n",
    "import requests\n",
    "import xmltodict, json\n",
    "\n",
    "from bs4 import BeautifulSoup\n",
    "import numpy as np\n",
    "\n",
    "from pybliometrics.scopus import AbstractRetrieval\n",
    "\n",
    " #Declaracion \n",
    "listalinks = list()\n",
    "listatitulos = list()\n",
    "listabstract = list()\n",
    "listautor= list()\n",
    "listakeywords = list()\n",
    "listafuente = list()\n",
    "listkey=list()"
   ]
  },
  {
   "cell_type": "code",
   "execution_count": 42,
   "metadata": {},
   "outputs": [],
   "source": [
    "def consumo_scopus(busqueda):\n",
    "    \n",
    "    \n",
    "    key = '0387c7142db3254ed53c09c131ecf8c0'\n",
    "    scopus = Scopus(key)\n",
    "    search_df = scopus.search(\"ALL(\"+busqueda+\")\", count=10)\n",
    "    for i in range(len(search_df['scopus_id'])):\n",
    "        try:\n",
    "            pub_abs = scopus.retrieve_abstract(search_df['scopus_id'][i])\n",
    "            listabstract.append(pub_abs['abstract'])\n",
    "        except:\n",
    "            listabstract.append(\"0\")\n",
    "            \n",
    "        try:\n",
    "            listalinks.append(\"https://www.scopus.com/inward/record.uri?partnerID=HzOxMe3b&scp=\"+search_df['scopus_id'][i]+\"&origin=inward\")\n",
    "            \n",
    "        except:\n",
    "            listalinks.append(\"0\")\n",
    "            \n",
    "        try:\n",
    "            listatitulos.append(search_df['title'][i])\n",
    "        except:\n",
    "            listatitulos.append(\"0\")\n",
    "            \n",
    "        try:\n",
    "            list_aux=[]\n",
    "            for j in range(len(search_df['authors'][i])):\n",
    "                aut=scopus.retrieve_author(search_df['authors'][i][j])\n",
    "                list_aux.append(aut['name'])\n",
    "                \n",
    "            listautor.append(list_aux)\n",
    "        except:\n",
    "            listautor.append(\"0\")\n",
    "            \n",
    "        listakeywords.append(\"0\")\n",
    "        listafuente.append(\"scopus\")\n",
    "        listkey.append(busqueda)\n",
    "\n"
   ]
  },
  {
   "cell_type": "code",
   "execution_count": 44,
   "metadata": {},
   "outputs": [
    {
     "name": "stdout",
     "output_type": "stream",
     "text": [
      "ingreso\n",
      "85106068530\n"
     ]
    },
    {
     "ename": "ValueError",
     "evalue": "Abstract for 85106068530 not found!",
     "output_type": "error",
     "traceback": [
      "\u001b[0;31m---------------------------------------------------------------------------\u001b[0m",
      "\u001b[0;31mKeyError\u001b[0m                                  Traceback (most recent call last)",
      "\u001b[0;32m~/.local/lib/python3.8/site-packages/pyscopus/scopus.py\u001b[0m in \u001b[0;36mretrieve_abstract\u001b[0;34m(self, scopus_id, download_path, view)\u001b[0m\n\u001b[1;32m    179\u001b[0m         \u001b[0;32mtry\u001b[0m\u001b[0;34m:\u001b[0m\u001b[0;34m\u001b[0m\u001b[0;34m\u001b[0m\u001b[0m\n\u001b[0;32m--> 180\u001b[0;31m             \u001b[0;32mreturn\u001b[0m \u001b[0m_parse_abstract_retrieval\u001b[0m\u001b[0;34m(\u001b[0m\u001b[0mjs\u001b[0m\u001b[0;34m)\u001b[0m\u001b[0;34m\u001b[0m\u001b[0;34m\u001b[0m\u001b[0m\n\u001b[0m\u001b[1;32m    181\u001b[0m         \u001b[0;32mexcept\u001b[0m\u001b[0;34m:\u001b[0m\u001b[0;34m\u001b[0m\u001b[0;34m\u001b[0m\u001b[0m\n",
      "\u001b[0;32m~/.local/lib/python3.8/site-packages/pyscopus/utils.py\u001b[0m in \u001b[0;36m_parse_abstract_retrieval\u001b[0;34m(abstract_entry)\u001b[0m\n\u001b[1;32m    338\u001b[0m \u001b[0;32mdef\u001b[0m \u001b[0m_parse_abstract_retrieval\u001b[0m\u001b[0;34m(\u001b[0m\u001b[0mabstract_entry\u001b[0m\u001b[0;34m)\u001b[0m\u001b[0;34m:\u001b[0m\u001b[0;34m\u001b[0m\u001b[0;34m\u001b[0m\u001b[0m\n\u001b[0;32m--> 339\u001b[0;31m     \u001b[0mresp\u001b[0m \u001b[0;34m=\u001b[0m \u001b[0mabstract_entry\u001b[0m\u001b[0;34m[\u001b[0m\u001b[0;34m'abstracts-retrieval-response'\u001b[0m\u001b[0;34m]\u001b[0m\u001b[0;34m\u001b[0m\u001b[0;34m\u001b[0m\u001b[0m\n\u001b[0m\u001b[1;32m    340\u001b[0m \u001b[0;34m\u001b[0m\u001b[0m\n",
      "\u001b[0;31mKeyError\u001b[0m: 'abstracts-retrieval-response'",
      "\nDuring handling of the above exception, another exception occurred:\n",
      "\u001b[0;31mValueError\u001b[0m                                Traceback (most recent call last)",
      "\u001b[0;32m<ipython-input-44-15711dccb284>\u001b[0m in \u001b[0;36m<module>\u001b[0;34m\u001b[0m\n\u001b[0;32m----> 1\u001b[0;31m \u001b[0mconsumo_scopus\u001b[0m\u001b[0;34m(\u001b[0m\u001b[0;34m\"medicine\"\u001b[0m\u001b[0;34m)\u001b[0m\u001b[0;34m\u001b[0m\u001b[0;34m\u001b[0m\u001b[0m\n\u001b[0m",
      "\u001b[0;32m<ipython-input-42-3bc2813c2718>\u001b[0m in \u001b[0;36mconsumo_scopus\u001b[0;34m(busqueda)\u001b[0m\n\u001b[1;32m      9\u001b[0m         \u001b[0mprint\u001b[0m\u001b[0;34m(\u001b[0m\u001b[0msearch_df\u001b[0m\u001b[0;34m[\u001b[0m\u001b[0;34m'scopus_id'\u001b[0m\u001b[0;34m]\u001b[0m\u001b[0;34m[\u001b[0m\u001b[0mi\u001b[0m\u001b[0;34m]\u001b[0m\u001b[0;34m)\u001b[0m\u001b[0;34m\u001b[0m\u001b[0;34m\u001b[0m\u001b[0m\n\u001b[1;32m     10\u001b[0m         \u001b[0mid_autor\u001b[0m\u001b[0;34m=\u001b[0m\u001b[0msearch_df\u001b[0m\u001b[0;34m[\u001b[0m\u001b[0;34m'scopus_id'\u001b[0m\u001b[0;34m]\u001b[0m\u001b[0;34m[\u001b[0m\u001b[0mi\u001b[0m\u001b[0;34m]\u001b[0m\u001b[0;34m\u001b[0m\u001b[0;34m\u001b[0m\u001b[0m\n\u001b[0;32m---> 11\u001b[0;31m         \u001b[0mpub_abs\u001b[0m \u001b[0;34m=\u001b[0m \u001b[0mscopus\u001b[0m\u001b[0;34m.\u001b[0m\u001b[0mretrieve_abstract\u001b[0m\u001b[0;34m(\u001b[0m\u001b[0mid_autor\u001b[0m\u001b[0;34m)\u001b[0m\u001b[0;34m\u001b[0m\u001b[0;34m\u001b[0m\u001b[0m\n\u001b[0m\u001b[1;32m     12\u001b[0m         \u001b[0mprint\u001b[0m\u001b[0;34m(\u001b[0m\u001b[0mpub_abs\u001b[0m\u001b[0;34m)\u001b[0m\u001b[0;34m\u001b[0m\u001b[0;34m\u001b[0m\u001b[0m\n\u001b[1;32m     13\u001b[0m         \u001b[0mlistabstract\u001b[0m\u001b[0;34m.\u001b[0m\u001b[0mappend\u001b[0m\u001b[0;34m(\u001b[0m\u001b[0mpub_abs\u001b[0m\u001b[0;34m[\u001b[0m\u001b[0;34m'abstract'\u001b[0m\u001b[0;34m]\u001b[0m\u001b[0;34m)\u001b[0m\u001b[0;34m\u001b[0m\u001b[0;34m\u001b[0m\u001b[0m\n",
      "\u001b[0;32m~/.local/lib/python3.8/site-packages/pyscopus/scopus.py\u001b[0m in \u001b[0;36mretrieve_abstract\u001b[0;34m(self, scopus_id, download_path, view)\u001b[0m\n\u001b[1;32m    180\u001b[0m             \u001b[0;32mreturn\u001b[0m \u001b[0m_parse_abstract_retrieval\u001b[0m\u001b[0;34m(\u001b[0m\u001b[0mjs\u001b[0m\u001b[0;34m)\u001b[0m\u001b[0;34m\u001b[0m\u001b[0;34m\u001b[0m\u001b[0m\n\u001b[1;32m    181\u001b[0m         \u001b[0;32mexcept\u001b[0m\u001b[0;34m:\u001b[0m\u001b[0;34m\u001b[0m\u001b[0;34m\u001b[0m\u001b[0m\n\u001b[0;32m--> 182\u001b[0;31m             \u001b[0;32mraise\u001b[0m \u001b[0mValueError\u001b[0m\u001b[0;34m(\u001b[0m\u001b[0;34m'Abstract for %s not found!'\u001b[0m \u001b[0;34m%\u001b[0m\u001b[0mscopus_id\u001b[0m\u001b[0;34m)\u001b[0m\u001b[0;34m\u001b[0m\u001b[0;34m\u001b[0m\u001b[0m\n\u001b[0m\u001b[1;32m    183\u001b[0m \u001b[0;34m\u001b[0m\u001b[0m\n\u001b[1;32m    184\u001b[0m     \u001b[0;32mdef\u001b[0m \u001b[0mretrieve_citation\u001b[0m\u001b[0;34m(\u001b[0m\u001b[0mself\u001b[0m\u001b[0;34m,\u001b[0m \u001b[0mscopus_id_array\u001b[0m\u001b[0;34m,\u001b[0m \u001b[0myear_range\u001b[0m\u001b[0;34m)\u001b[0m\u001b[0;34m:\u001b[0m\u001b[0;34m\u001b[0m\u001b[0;34m\u001b[0m\u001b[0m\n",
      "\u001b[0;31mValueError\u001b[0m: Abstract for 85106068530 not found!"
     ]
    }
   ],
   "source": [
    "consumo_scopus(\"medicine\")"
   ]
  },
  {
   "cell_type": "code",
   "execution_count": 33,
   "metadata": {},
   "outputs": [
    {
     "name": "stdout",
     "output_type": "stream",
     "text": [
      "Collecting simplejson\n",
      "  Downloading simplejson-3.17.2-cp38-cp38-manylinux2010_x86_64.whl (137 kB)\n",
      "\u001b[K     |████████████████████████████████| 137 kB 1.0 MB/s eta 0:00:01\n",
      "\u001b[?25hInstalling collected packages: simplejson\n",
      "Successfully installed simplejson-3.17.2\n",
      "Note: you may need to restart the kernel to use updated packages.\n"
     ]
    }
   ],
   "source": []
  },
  {
   "cell_type": "code",
   "execution_count": null,
   "metadata": {},
   "outputs": [],
   "source": []
  }
 ],
 "metadata": {
  "kernelspec": {
   "display_name": "Python 3",
   "language": "python",
   "name": "python3"
  },
  "language_info": {
   "codemirror_mode": {
    "name": "ipython",
    "version": 3
   },
   "file_extension": ".py",
   "mimetype": "text/x-python",
   "name": "python",
   "nbconvert_exporter": "python",
   "pygments_lexer": "ipython3",
   "version": "3.8.8"
  }
 },
 "nbformat": 4,
 "nbformat_minor": 4
}
