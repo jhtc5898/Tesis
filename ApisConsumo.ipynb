{
 "cells": [
  {
   "cell_type": "code",
   "execution_count": 143,
   "metadata": {},
   "outputs": [],
   "source": [
    "from pyscopus import Scopus\n",
    "import pandas as pd\n",
    "import requests\n",
    "import xmltodict, json\n",
    "\n",
    "\n",
    "from lxml import etree\n",
    "import requests\n",
    "import xmltodict, json"
   ]
  },
  {
   "cell_type": "code",
   "execution_count": 144,
   "metadata": {},
   "outputs": [
    {
     "name": "stdout",
     "output_type": "stream",
     "text": [
      "Ingrese el dato a buscar:\n",
      "medicine\n"
     ]
    }
   ],
   "source": [
    "print(\"Ingrese el dato a buscar:\")\n",
    "busqueda = input()"
   ]
  },
  {
   "cell_type": "code",
   "execution_count": 145,
   "metadata": {},
   "outputs": [],
   "source": [
    "#Consumo API de SCOPUS"
   ]
  },
  {
   "cell_type": "code",
   "execution_count": 146,
   "metadata": {},
   "outputs": [],
   "source": [
    "key = '0387c7142db3254ed53c09c131ecf8c0'\n",
    "scopus = Scopus(key)\n",
    "search_df = scopus.search(\"ALL(\"+busqueda+\")\", count=100)"
   ]
  },
  {
   "cell_type": "code",
   "execution_count": 147,
   "metadata": {},
   "outputs": [],
   "source": [
    "#Consumo API de DOAJ"
   ]
  },
  {
   "cell_type": "code",
   "execution_count": 148,
   "metadata": {},
   "outputs": [],
   "source": [
    "url = 'https://www.doaj.org/api/v2/search/articles/all('+busqueda+')?pageSize=100'\n",
    "headers = {'Content-Type': 'application/json;charset=UTF-8', 'Access-Control-Allow-Origin': '*'}\n",
    "r = requests.get(url, headers=headers)"
   ]
  },
  {
   "cell_type": "code",
   "execution_count": 149,
   "metadata": {},
   "outputs": [],
   "source": [
    "#Consumo API de propiedad Inletectual"
   ]
  },
  {
   "cell_type": "code",
   "execution_count": 150,
   "metadata": {},
   "outputs": [],
   "source": [
    "url_uspto = 'https://developer.uspto.gov/ibd-api/v1/application/publications?searchText='+busqueda+'&start=0&rows=100'\n",
    "headers_uspto = {'Content-Type': 'application/json;charset=UTF-8', 'Access-Control-Allow-Origin': '*'}\n",
    "r2_uspto = requests.get(url_uspto, headers=headers_uspto) "
   ]
  },
  {
   "cell_type": "code",
   "execution_count": 151,
   "metadata": {},
   "outputs": [],
   "source": [
    "#Consumo API deProQuest"
   ]
  },
  {
   "cell_type": "code",
   "execution_count": 152,
   "metadata": {},
   "outputs": [],
   "source": [
    "access_token = '8461684a-5a79-407c-9321-93d8d719ddeb'\n",
    "headers = {\n",
    "    'Content-type': 'text/xml',\n",
    "    'Authorization': 'Bearer {}'.format(access_token)\n",
    "}\n",
    "data = '<searchRequest><search><query>'+busqueda+'</query><databases><database>medlineprof</database></databases></search><count>100</count></searchRequest>'\n",
    "resp = requests.post('https://api-dialog.proquest.com/v1/search', headers=headers, data=data)\n",
    "o = xmltodict.parse(resp.text)\n",
    "conta = json.dumps(o)\n",
    "d = json.loads(conta)\n"
   ]
  },
  {
   "cell_type": "code",
   "execution_count": 153,
   "metadata": {},
   "outputs": [],
   "source": [
    "#Consumo API de IEEEXPLORE"
   ]
  },
  {
   "cell_type": "code",
   "execution_count": 154,
   "metadata": {},
   "outputs": [],
   "source": [
    "url_ieeexplore = 'http://ieeexploreapi.ieee.org/api/v1/search/articles?apikey=3dyyvg36jv78dbuu83q3fzzt&format=json&max_records=200&start_record=1&sort_order=asc&sort_field=article_number&querytext='+busqueda\n",
    "headers_ieeexplore = {'Content-Type': 'application/json;charset=UTF-8', 'Access-Control-Allow-Origin': '*'}\n",
    "r_ieeexplore = requests.get(url_ieeexplore, headers=headers_ieeexplore)"
   ]
  },
  {
   "cell_type": "code",
   "execution_count": 155,
   "metadata": {},
   "outputs": [],
   "source": [
    "#Declaracion \n",
    "listalinks = list()\n",
    "listatitulos = list()\n",
    "listabstract = list()\n",
    "listautor= list()\n",
    "listakeywords = list()\n",
    "listafuente = list()\n"
   ]
  },
  {
   "cell_type": "code",
   "execution_count": 156,
   "metadata": {},
   "outputs": [
    {
     "name": "stdout",
     "output_type": "stream",
     "text": [
      "Reciprocal EMG control of elbow extension by FES\n",
      "0\n",
      "1\n",
      "2\n",
      "3\n",
      "4\n",
      "5\n",
      "6\n",
      "7\n",
      "8\n",
      "Error sin abstract\n",
      "9\n",
      "10\n",
      "11\n",
      "12\n",
      "13\n",
      "14\n",
      "15\n",
      "16\n",
      "17\n",
      "18\n",
      "19\n",
      "20\n",
      "21\n",
      "22\n",
      "23\n",
      "24\n",
      "25\n",
      "26\n",
      "27\n",
      "28\n",
      "29\n",
      "30\n",
      "31\n",
      "32\n",
      "33\n",
      "34\n",
      "35\n",
      "36\n",
      "37\n",
      "38\n",
      "39\n",
      "40\n",
      "41\n",
      "42\n",
      "43\n",
      "44\n",
      "45\n",
      "46\n",
      "47\n",
      "48\n",
      "49\n",
      "50\n",
      "51\n",
      "52\n",
      "53\n",
      "54\n",
      "55\n",
      "56\n",
      "57\n",
      "58\n",
      "59\n",
      "60\n",
      "61\n",
      "62\n",
      "63\n",
      "64\n",
      "65\n",
      "66\n",
      "67\n",
      "68\n",
      "69\n",
      "70\n",
      "71\n",
      "72\n",
      "73\n",
      "74\n",
      "75\n",
      "76\n",
      "77\n",
      "78\n",
      "79\n",
      "80\n",
      "81\n",
      "82\n",
      "83\n",
      "84\n",
      "85\n",
      "86\n",
      "87\n",
      "88\n",
      "89\n",
      "90\n",
      "91\n",
      "92\n",
      "93\n",
      "94\n",
      "95\n",
      "96\n",
      "97\n",
      "98\n",
      "99\n",
      "100\n",
      "101\n",
      "102\n",
      "103\n",
      "104\n",
      "105\n",
      "106\n",
      "107\n",
      "108\n",
      "109\n",
      "110\n",
      "111\n",
      "112\n",
      "113\n",
      "114\n",
      "115\n",
      "116\n",
      "117\n",
      "118\n",
      "119\n",
      "120\n",
      "121\n",
      "122\n",
      "123\n",
      "124\n",
      "125\n",
      "126\n",
      "127\n",
      "128\n",
      "129\n",
      "130\n",
      "131\n",
      "132\n",
      "133\n",
      "134\n",
      "135\n",
      "136\n",
      "137\n",
      "138\n",
      "139\n",
      "140\n",
      "141\n",
      "142\n",
      "143\n",
      "144\n",
      "145\n",
      "146\n",
      "147\n",
      "148\n",
      "149\n",
      "150\n",
      "151\n",
      "152\n",
      "153\n",
      "154\n",
      "155\n",
      "156\n",
      "157\n",
      "158\n",
      "159\n",
      "160\n",
      "161\n",
      "162\n",
      "163\n",
      "164\n",
      "165\n",
      "166\n",
      "167\n",
      "168\n",
      "169\n",
      "170\n",
      "171\n",
      "172\n",
      "Error sin abstract\n",
      "173\n",
      "174\n",
      "175\n",
      "176\n",
      "177\n",
      "178\n",
      "179\n",
      "180\n",
      "181\n",
      "182\n",
      "183\n",
      "184\n",
      "185\n",
      "186\n",
      "187\n",
      "188\n",
      "189\n",
      "190\n",
      "191\n",
      "192\n",
      "193\n",
      "194\n",
      "195\n",
      "196\n",
      "197\n",
      "198\n",
      "199\n"
     ]
    }
   ],
   "source": [
    "#Consumo api  de propiedad intelectual sobre titulo,url,abstract,nombre(uspto)\n",
    "content_ieeexplore = r_ieeexplore.json()\n",
    "json_ieeexplore = content_ieeexplore['articles']\n",
    "print(json_ieeexplore[1]['title'])\n",
    "for i in range(len(json_ieeexplore)):\n",
    "    print(i)\n",
    "    try:\n",
    "        listabstract.append(json_ieeexplore[i]['abstract'])\n",
    "        #print(json_ieeexplore[i]['abstract'])\n",
    "        \n",
    "        listatitulos.append(json_ieeexplore[i]['title'])\n",
    "        #print(json_ieeexplore[i]['title'])\n",
    "        \n",
    "        listalinks.append(json_ieeexplore[i]['pdf_url'])\n",
    "        #print(json_ieeexplore[i]['pdf_url'])\n",
    "        \n",
    "        aux=list()\n",
    "        for j in range(len(json_ieeexplore[i]['authors']['authors'])):\n",
    "            aux.append(json_ieeexplore[i]['authors']['authors'][j]['full_name'])\n",
    "        #print(aux)\n",
    "        listautor.append(aux)\n",
    "        try:\n",
    "            listakeywords.append(json_ieeexplore[i]['index_terms']['ieee_terms']['terms'])\n",
    "        except:\n",
    "            listakeywords.append('0')\n",
    "            \n",
    "        listafuente.append('ieeexplore')\n",
    "            \n",
    "    except:\n",
    "        print(\"Error sin abstract\")"
   ]
  },
  {
   "cell_type": "code",
   "execution_count": 157,
   "metadata": {},
   "outputs": [
    {
     "name": "stdout",
     "output_type": "stream",
     "text": [
      "link 198  title  198 abstract  198  authors  198  keywords  198 fuente 198\n"
     ]
    }
   ],
   "source": [
    "print('link',len(listalinks),' title ',len(listatitulos),'abstract ',len(listabstract),' authors ',len(listautor),\" keywords \",len(listakeywords),'fuente', len(listafuente))"
   ]
  },
  {
   "cell_type": "code",
   "execution_count": 158,
   "metadata": {},
   "outputs": [],
   "source": [
    "#Consumo api  de propiedad intelectual sobre titulo,url,abstract,nombre(uspto)\n",
    "content_uspto = r2_uspto.json()\n",
    "json_uspto = content_uspto['results']\n",
    "\n",
    "for i in range(len(json_uspto)):\n",
    "    try:\n",
    "\n",
    "        listakeywords.append(0)\n",
    "        listafuente.append(\"uspto\")\n",
    "        \n",
    "        nivel1=json_uspto[i]['inventionTitle']\n",
    "        listatitulos.append(nivel1)\n",
    "        \n",
    "        nivel2=json_uspto[i]['filelocationURI']\n",
    "        listalinks.append(nivel2)\n",
    "        \n",
    "        nivel3=json_uspto[i]['abstractText'][0]\n",
    "        listabstract.append(nivel3)\n",
    "        \n",
    "        nivel4=json_uspto[i]['assigneeEntityName']\n",
    "        listautor.append(nivel4)\n",
    "    except:\n",
    "        print(\" \")\n"
   ]
  },
  {
   "cell_type": "code",
   "execution_count": 159,
   "metadata": {},
   "outputs": [
    {
     "name": "stdout",
     "output_type": "stream",
     "text": [
      "link 298  title  298 abstract  298  authors  298  keywords  298 fuente 298\n"
     ]
    }
   ],
   "source": [
    "print('link',len(listalinks),' title ',len(listatitulos),'abstract ',len(listabstract),' authors ',len(listautor),\" keywords \",len(listakeywords),'fuente', len(listafuente))"
   ]
  },
  {
   "cell_type": "code",
   "execution_count": 160,
   "metadata": {},
   "outputs": [
    {
     "name": "stdout",
     "output_type": "stream",
     "text": [
      "\n",
      "\n",
      "\n",
      "\n",
      "\n",
      "\n",
      "\n",
      "\n",
      "\n",
      "\n",
      "\n",
      "\n",
      "\n",
      "\n",
      "\n",
      "\n",
      "\n",
      "\n",
      "\n",
      "\n",
      "\n",
      "\n",
      "\n",
      "\n",
      "\n",
      "\n",
      "\n",
      "\n"
     ]
    }
   ],
   "source": [
    "#Consumo api  de doaj sobre titulo,url,abstract,author(uspto),keywords\n",
    "content = r.json()\n",
    "#Ingreso al contenido\n",
    "json = content['results']\n",
    "\n",
    "for i in range(len(json)):\n",
    "    try:\n",
    "\n",
    "        nivel4=json[i]['bibjson']['keywords']\n",
    "        listakeywords.append(nivel4)\n",
    "        nivel1=json[i]['bibjson']['link'][0]['url']\n",
    "        listalinks.append(nivel1)\n",
    "        nivel2=json[i]['bibjson']['title']\n",
    "        listatitulos.append(nivel2)\n",
    "        nivel3=json[i]['bibjson']['abstract']\n",
    "        listabstract.append(nivel3)\n",
    "        nivel4=json[i]['bibjson']['author']\n",
    "        listautor.append(nivel4)\n",
    "        listafuente.append(\"doaj\")\n",
    "        \n",
    "    except:\n",
    "        print(\"\")"
   ]
  },
  {
   "cell_type": "code",
   "execution_count": 161,
   "metadata": {},
   "outputs": [
    {
     "name": "stdout",
     "output_type": "stream",
     "text": [
      "link 370  title  370 abstract  370  authors  370  keywords  370 fuente 370\n"
     ]
    }
   ],
   "source": [
    "print('link',len(listalinks),' title ',len(listatitulos),'abstract ',len(listabstract),' authors ',len(listautor),\" keywords \",len(listakeywords),'fuente', len(listafuente))"
   ]
  },
  {
   "cell_type": "code",
   "execution_count": 162,
   "metadata": {},
   "outputs": [
    {
     "name": "stdout",
     "output_type": "stream",
     "text": [
      " \n",
      " \n",
      " \n",
      " \n",
      " \n",
      " \n",
      " \n",
      " \n",
      " \n",
      " \n",
      " \n",
      " \n",
      " \n",
      " \n",
      " \n",
      " \n",
      " \n",
      " \n",
      " \n",
      " \n",
      " \n",
      " \n",
      " \n",
      " \n",
      " \n"
     ]
    }
   ],
   "source": [
    "#Consumo api  de SCOPUS sobre titulo,url,abstract,nombre(uspto)\n",
    "for i in range(len(search_df['scopus_id'])):\n",
    "    try:\n",
    "        pub_abs = scopus.retrieve_abstract(search_df['scopus_id'][i])\n",
    "        listabstract.append(pub_abs['abstract'])\n",
    "        listalinks.append(\"https://www.scopus.com/inward/record.uri?partnerID=HzOxMe3b&scp=\"+search_df['scopus_id'][i]+\"&origin=inward\")\n",
    "        listatitulos.append(search_df['title'][i])\n",
    "        listautor.append(search_df['authors'][i])\n",
    "        listakeywords.append(\"0\")\n",
    "        listafuente.append(\"scopus\")\n",
    "    except:\n",
    "        print(\" \")\n",
    "\n",
    "\n"
   ]
  },
  {
   "cell_type": "code",
   "execution_count": 163,
   "metadata": {},
   "outputs": [
    {
     "name": "stdout",
     "output_type": "stream",
     "text": [
      "link 445  title  445 abstract  445  authors  445  keywords  445 fuente 445\n"
     ]
    }
   ],
   "source": [
    "print('link',len(listalinks),' title ',len(listatitulos),'abstract ',len(listabstract),' authors ',len(listautor),\" keywords \",len(listakeywords),'fuente', len(listafuente))"
   ]
  },
  {
   "cell_type": "code",
   "execution_count": 164,
   "metadata": {},
   "outputs": [],
   "source": [
    "#Consumo api  de ProQuest sobre titulo,url,abstract,nombre(uspto)\n",
    "json = d['searchResponse']['result']['doc']\n",
    "\n",
    "for i in range(len(json)):\n",
    "\n",
    "        #TITULO\n",
    "        nivel1=json[i]['field'][1]['value']\n",
    "        listatitulos.append(nivel1)\n",
    "        nivel2=json[i]['field'][3]['value']\n",
    "        response2 = requests.get(nivel2, headers=headers)\n",
    "        o1 = xmltodict.parse(response2.text)\n",
    "        \n",
    "        #LINK\n",
    "        listalinks.append(o1['Documents']['Literature']['DocInfo']['URL'])\n",
    "        \n",
    "        #Fuente\n",
    "        listafuente.append('ProQuest')\n",
    "        #Authores\n",
    "        try:\n",
    "            \n",
    "            contributor=o1['Documents']['Literature']['Contributors']['Contributor']\n",
    "            aux=list()\n",
    "            for i in range(len(contributor)):\n",
    "                #print(contributor[i])\n",
    "                if(contributor[i]['@ContribRole']=='Author'):\n",
    "                    aux.append(contributor[i]['NormalizedName']+\" \"+contributor[i]['LastName'])\n",
    "            listautor.append(aux)\n",
    "        except: \n",
    "             listautor.append(\"NULL\")\n",
    "\n",
    "        #Keywords\n",
    "        keywords=o1['Documents']['Literature']['Subjects']['HeadingTerms']['HeadingTerm']\n",
    "        aux=list()\n",
    "        for i in range(len(keywords)):\n",
    "            nivel9=keywords[i]['Heading']\n",
    "            aux.append(nivel9['#text'])\n",
    "        listakeywords.append(aux)\n",
    "        \n",
    "        #ABSTRACT\n",
    "        try:\n",
    "            nivel5= o1['Documents']['Literature']['Abstract']\n",
    "            listabstract.append(nivel5.get('#text'))\n",
    "        except: \n",
    "            listabstract.append(\"NULL\")"
   ]
  },
  {
   "cell_type": "code",
   "execution_count": 165,
   "metadata": {},
   "outputs": [
    {
     "name": "stdout",
     "output_type": "stream",
     "text": [
      "link 545  title  545 abstract  545  authors  545  keywords  545 fuente 545\n"
     ]
    }
   ],
   "source": [
    "print('link',len(listalinks),' title ',len(listatitulos),'abstract ',len(listabstract),' authors ',len(listautor),\" keywords \",len(listakeywords),'fuente', len(listafuente))"
   ]
  },
  {
   "cell_type": "code",
   "execution_count": 166,
   "metadata": {},
   "outputs": [],
   "source": [
    "diccionario ={'link':listalinks ,'title':listatitulos,'abstract':listabstract,'authors':listautor,\"keywords\":listakeywords,'fuente':listafuente}"
   ]
  },
  {
   "cell_type": "code",
   "execution_count": 167,
   "metadata": {},
   "outputs": [
    {
     "name": "stdout",
     "output_type": "stream",
     "text": [
      "                                                  link  \\\n",
      "0    https://ieeexplore.ieee.org/stamp/stamp.jsp?tp...   \n",
      "1    https://ieeexplore.ieee.org/stamp/stamp.jsp?tp...   \n",
      "2    https://ieeexplore.ieee.org/stamp/stamp.jsp?tp...   \n",
      "3    https://ieeexplore.ieee.org/stamp/stamp.jsp?tp...   \n",
      "4    https://ieeexplore.ieee.org/stamp/stamp.jsp?tp...   \n",
      "..                                                 ...   \n",
      "540  http://dialog.proquest.com/professional/docvie...   \n",
      "541  http://dialog.proquest.com/professional/docvie...   \n",
      "542  http://dialog.proquest.com/professional/docvie...   \n",
      "543  http://dialog.proquest.com/professional/docvie...   \n",
      "544  http://dialog.proquest.com/professional/docvie...   \n",
      "\n",
      "                                                 title  \\\n",
      "0    Simulations of foot stability during gait char...   \n",
      "1     Reciprocal EMG control of elbow extension by FES   \n",
      "2    Finite element modeling of electromagnetic sig...   \n",
      "3    Interaction of array of finite electrodes with...   \n",
      "4    Kinematic modeling for the assessment of wheel...   \n",
      "..                                                 ...   \n",
      "540  Efficacy of cilazapril compared with hydrochlo...   \n",
      "541  Left ventricular diastolic dysfunction and car...   \n",
      "542                Clinical pharmacology of cilazapril   \n",
      "543  Cilazapril: a new non-thiol-containing angiote...   \n",
      "544  Long-term evaluation of cilazapril in severe h...   \n",
      "\n",
      "                                              abstract  \\\n",
      "0    Falls are common among the elderly and often c...   \n",
      "1    Elbow extension is critical in performing acti...   \n",
      "2    Improving the control of artificial arms remai...   \n",
      "3    A hybrid scheme, combining image series and mo...   \n",
      "4    A computer kinematic model was developed to si...   \n",
      "..                                                 ...   \n",
      "540  The effect of cilazapril, a new inhibitor of a...   \n",
      "541  The determinants and physiologic consequences ...   \n",
      "542  In clinical pharmacology studies cilazapril, a...   \n",
      "543  Cilazapril is a structurally new angiotensin-c...   \n",
      "544  The effect of cilazapril as monotherapy or in ...   \n",
      "\n",
      "                                               authors  \\\n",
      "0                                           [A. Gefen]   \n",
      "1                         [J.P. Giuffrida, P.E. Crago]   \n",
      "2    [T.A. Kuiken, N.S. Stoykov, M. Popovic, M. Low...   \n",
      "3           [L.M. Livshitz, J. Mizrahi, P.D. Einziger]   \n",
      "4    [D. Pavec, C.-E. Aubin, R. Aissaoui, F. Parent...   \n",
      "..                                                 ...   \n",
      "540                               [Morgan, T O Morgan]   \n",
      "541                   [Fouad-Tarazi, F M Fouad-Tarazi]   \n",
      "542  [Kleinbloesem, C H Kleinbloesem, Van Brummelen...   \n",
      "543                                 [Kögler, P Kögler]   \n",
      "544  [Sánchez, R A Sánchez, Traballi, C A Traballi,...   \n",
      "\n",
      "                                              keywords      fuente  \n",
      "0    [Foot, Senior citizens, Muscles, Stability ana...  ieeexplore  \n",
      "1    [Electromyography, Elbow, Muscles, Spinal cord...  ieeexplore  \n",
      "2    [Finite element methods, Electromagnetic model...  ieeexplore  \n",
      "3    [Electrodes, Biological tissues, Muscles, Mome...  ieeexplore  \n",
      "4    [Kinematics, Wheelchairs, Stability, Biologica...  ieeexplore  \n",
      "..                                                 ...         ...  \n",
      "540  [Adolescent, Adult, Aged, Angiotensin-Converti...    ProQuest  \n",
      "541  [Diastole, Heart, Heart Ventricles, Humans, Hy...    ProQuest  \n",
      "542  [Angiotensin-Converting Enzyme Inhibitors, Ang...    ProQuest  \n",
      "543  [Aged, Angiotensin-Converting Enzyme Inhibitor...    ProQuest  \n",
      "544  [Adult, Aged, Angiotensin-Converting Enzyme In...    ProQuest  \n",
      "\n",
      "[545 rows x 6 columns]\n"
     ]
    }
   ],
   "source": [
    "dataset=pd.DataFrame(diccionario)\n",
    "print(dataset)"
   ]
  },
  {
   "cell_type": "code",
   "execution_count": 168,
   "metadata": {},
   "outputs": [],
   "source": [
    "dataset.to_csv('resultado.csv')"
   ]
  },
  {
   "cell_type": "code",
   "execution_count": null,
   "metadata": {},
   "outputs": [],
   "source": []
  },
  {
   "cell_type": "code",
   "execution_count": null,
   "metadata": {},
   "outputs": [],
   "source": []
  },
  {
   "cell_type": "code",
   "execution_count": null,
   "metadata": {},
   "outputs": [],
   "source": []
  },
  {
   "cell_type": "code",
   "execution_count": null,
   "metadata": {},
   "outputs": [],
   "source": []
  },
  {
   "cell_type": "code",
   "execution_count": null,
   "metadata": {},
   "outputs": [],
   "source": []
  },
  {
   "cell_type": "code",
   "execution_count": null,
   "metadata": {},
   "outputs": [],
   "source": []
  },
  {
   "cell_type": "code",
   "execution_count": null,
   "metadata": {},
   "outputs": [],
   "source": []
  }
 ],
 "metadata": {
  "kernelspec": {
   "display_name": "Python 3",
   "language": "python",
   "name": "python3"
  },
  "language_info": {
   "codemirror_mode": {
    "name": "ipython",
    "version": 3
   },
   "file_extension": ".py",
   "mimetype": "text/x-python",
   "name": "python",
   "nbconvert_exporter": "python",
   "pygments_lexer": "ipython3",
   "version": "3.8.5"
  }
 },
 "nbformat": 4,
 "nbformat_minor": 4
}
