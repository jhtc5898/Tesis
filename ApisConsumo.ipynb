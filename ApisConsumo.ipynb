{
 "cells": [
  {
   "cell_type": "code",
   "execution_count": 786,
   "metadata": {},
   "outputs": [],
   "source": [
    "from pyscopus import Scopus\n",
    "import pandas as pd\n",
    "import requests\n",
    "import xmltodict, json\n",
    "\n",
    "\n",
    "from lxml import etree\n",
    "import requests\n",
    "import xmltodict, json\n",
    "\n",
    "from bs4 import BeautifulSoup\n",
    "import numpy as np"
   ]
  },
  {
   "cell_type": "code",
   "execution_count": 787,
   "metadata": {},
   "outputs": [
    {
     "name": "stdout",
     "output_type": "stream",
     "text": [
      "Ingrese el dato a buscar:\n",
      "medicine\n"
     ]
    }
   ],
   "source": [
    "print(\"Ingrese el dato a buscar:\")\n",
    "busqueda = input()"
   ]
  },
  {
   "cell_type": "code",
   "execution_count": 788,
   "metadata": {},
   "outputs": [],
   "source": [
    "#Consumo API de SCOPUS"
   ]
  },
  {
   "cell_type": "code",
   "execution_count": 789,
   "metadata": {},
   "outputs": [],
   "source": [
    "key = '0387c7142db3254ed53c09c131ecf8c0'\n",
    "scopus = Scopus(key)\n",
    "search_df = scopus.search(\"ALL(\"+busqueda+\")\", count=100)"
   ]
  },
  {
   "cell_type": "code",
   "execution_count": 790,
   "metadata": {},
   "outputs": [],
   "source": [
    "#Consumo API de DOAJ"
   ]
  },
  {
   "cell_type": "code",
   "execution_count": 791,
   "metadata": {},
   "outputs": [],
   "source": [
    "#pasar a ingles \n",
    "#funciona con el spacio \n",
    "url = 'https://www.doaj.org/api/v2/search/articles/all('+busqueda+')?pageSize=100'\n",
    "headers = {'Content-Type': 'application/json;charset=UTF-8', 'Access-Control-Allow-Origin': '*'}\n",
    "r = requests.get(url, headers=headers)"
   ]
  },
  {
   "cell_type": "code",
   "execution_count": 792,
   "metadata": {},
   "outputs": [],
   "source": [
    "#Consumo API de propiedad Inletectual"
   ]
  },
  {
   "cell_type": "code",
   "execution_count": 793,
   "metadata": {},
   "outputs": [],
   "source": [
    "#api lenta \n",
    "#funciona con spacio \n",
    "#ingle\n",
    "url_uspto = 'https://developer.uspto.gov/ibd-api/v1/application/publications?searchText='+busqueda+'&start=0&rows=100'\n",
    "headers_uspto = {'Content-Type': 'application/json;charset=UTF-8', 'Access-Control-Allow-Origin': '*'}\n",
    "r2_uspto = requests.get(url_uspto, headers=headers_uspto) "
   ]
  },
  {
   "cell_type": "code",
   "execution_count": 794,
   "metadata": {},
   "outputs": [],
   "source": [
    "#Consumo API deProQuest"
   ]
  },
  {
   "cell_type": "code",
   "execution_count": 795,
   "metadata": {},
   "outputs": [],
   "source": [
    "access_token = '8461684a-5a79-407c-9321-93d8d719ddeb'\n",
    "headers = {\n",
    "    'Content-type': 'text/xml',\n",
    "    'Authorization': 'Bearer {}'.format(access_token)\n",
    "}\n",
    "data = '<searchRequest><search><query>'+busqueda+'</query><databases><database>medlineprof</database></databases></search><count>100</count></searchRequest>'\n",
    "resp = requests.post('https://api-dialog.proquest.com/v1/search', headers=headers, data=data)\n",
    "o = xmltodict.parse(resp.text)\n",
    "conta = json.dumps(o)\n",
    "d = json.loads(conta)\n"
   ]
  },
  {
   "cell_type": "code",
   "execution_count": 796,
   "metadata": {},
   "outputs": [],
   "source": [
    "#Consumo API de IEEEXPLORE"
   ]
  },
  {
   "cell_type": "code",
   "execution_count": 797,
   "metadata": {},
   "outputs": [],
   "source": [
    "#funciona con spacio \n",
    "#debe estar en ingles \n",
    "\n",
    "url_ieeexplore = 'http://ieeexploreapi.ieee.org/api/v1/search/articles?apikey=3dyyvg36jv78dbuu83q3fzzt&format=json&max_records=200&start_record=1&sort_order=asc&sort_field=article_number&querytext='+busqueda\n",
    "headers_ieeexplore = {'Content-Type': 'application/json;charset=UTF-8', 'Access-Control-Allow-Origin': '*'}\n",
    "r_ieeexplore = requests.get(url_ieeexplore, headers=headers_ieeexplore)"
   ]
  },
  {
   "cell_type": "code",
   "execution_count": 798,
   "metadata": {},
   "outputs": [],
   "source": [
    "#Consumo Google Noticas"
   ]
  },
  {
   "cell_type": "code",
   "execution_count": 799,
   "metadata": {},
   "outputs": [],
   "source": [
    "busqueda =busqueda.replace(\" \", \"+\")\n",
    "res = requests.get('https://www.google.com/search?q='+busqueda+'+&biw=1064&bih=1034&tbm=nws&sxsrf=ALeKk012okzl46BThz3OHzeulw_CfNeALg%3A1620065628921&ei=XD2QYN2hN52y5NoP88anwAw&oq='+busqueda+'+&gs_l=psy-ab.3...1712.7789.0.7910.36.29.2.0.0.0.336.3435.0j13j5j1.20.0....0...1c.1.64.psy-ab..15.11.1630.0..0.124.YgObgGkRCac')\n",
    "soup = BeautifulSoup(res.text, 'lxml')"
   ]
  },
  {
   "cell_type": "code",
   "execution_count": 800,
   "metadata": {},
   "outputs": [],
   "source": [
    "#Declaracion \n",
    "listalinks = list()\n",
    "listatitulos = list()\n",
    "listabstract = list()\n",
    "listautor= list()\n",
    "listakeywords = list()\n",
    "listafuente = list()\n"
   ]
  },
  {
   "cell_type": "code",
   "execution_count": 801,
   "metadata": {},
   "outputs": [
    {
     "name": "stdout",
     "output_type": "stream",
     "text": [
      "Error sin abstract\n",
      "Error sin abstract\n"
     ]
    }
   ],
   "source": [
    "#Consumo api  de propiedad intelectual sobre titulo,url,abstract,nombre(uspto)\n",
    "content_ieeexplore = r_ieeexplore.json()\n",
    "json_ieeexplore = content_ieeexplore['articles']\n",
    "for i in range(len(json_ieeexplore)):\n",
    "    try:\n",
    "        listabstract.append(json_ieeexplore[i]['abstract'])\n",
    "        listatitulos.append(json_ieeexplore[i]['title'])\n",
    "        listalinks.append(json_ieeexplore[i]['pdf_url'])\n",
    "        aux=list()\n",
    "        for j in range(len(json_ieeexplore[i]['authors']['authors'])):\n",
    "            aux.append(json_ieeexplore[i]['authors']['authors'][j]['full_name'])\n",
    "        listautor.append(aux)\n",
    "        try:\n",
    "            listakeywords.append(json_ieeexplore[i]['index_terms']['ieee_terms']['terms'])\n",
    "        except:\n",
    "            listakeywords.append('0')    \n",
    "        listafuente.append('ieeexplore')   \n",
    "    except:\n",
    "        print(\"Error sin abstract\")"
   ]
  },
  {
   "cell_type": "code",
   "execution_count": 802,
   "metadata": {},
   "outputs": [
    {
     "name": "stdout",
     "output_type": "stream",
     "text": [
      "link 198  title  198 abstract  198  authors  198  keywords  198 fuente 198\n"
     ]
    }
   ],
   "source": [
    "print('link',len(listalinks),' title ',len(listatitulos),'abstract ',len(listabstract),' authors ',len(listautor),\" keywords \",len(listakeywords),'fuente', len(listafuente))"
   ]
  },
  {
   "cell_type": "code",
   "execution_count": 803,
   "metadata": {},
   "outputs": [],
   "source": [
    "#Consumo api  de propiedad intelectual sobre titulo,url,abstract,nombre(uspto)\n",
    "content_uspto = r2_uspto.json()\n",
    "json_uspto = content_uspto['results']\n",
    "\n",
    "for i in range(len(json_uspto)):\n",
    "    try:\n",
    "\n",
    "        listakeywords.append(0)\n",
    "        listafuente.append(\"uspto\")\n",
    "        listatitulos.append(json_uspto[i]['inventionTitle'])\n",
    "        listalinks.append(json_uspto[i]['filelocationURI'])\n",
    "        listabstract.append(nivel3)\n",
    "        listautor.append(json_uspto[i]['abstractText'][0])\n",
    "    except:\n",
    "        listautor.append('NULL')\n",
    "        listabstract.append('NULL')\n"
   ]
  },
  {
   "cell_type": "code",
   "execution_count": 804,
   "metadata": {},
   "outputs": [
    {
     "name": "stdout",
     "output_type": "stream",
     "text": [
      "link 298  title  298 abstract  298  authors  298  keywords  298 fuente 298\n"
     ]
    }
   ],
   "source": [
    "print('link',len(listalinks),' title ',len(listatitulos),'abstract ',len(listabstract),' authors ',len(listautor),\" keywords \",len(listakeywords),'fuente', len(listafuente))"
   ]
  },
  {
   "cell_type": "code",
   "execution_count": 805,
   "metadata": {},
   "outputs": [
    {
     "name": "stdout",
     "output_type": "stream",
     "text": [
      "\n",
      "\n",
      "\n",
      "\n",
      "\n",
      "\n",
      "\n",
      "\n",
      "\n",
      "\n",
      "\n",
      "\n",
      "\n",
      "\n",
      "\n",
      "\n",
      "\n",
      "\n",
      "\n",
      "\n",
      "\n",
      "\n",
      "\n",
      "\n",
      "\n",
      "\n",
      "\n",
      "\n"
     ]
    }
   ],
   "source": [
    "#Consumo api  de doaj sobre titulo,url,abstract,author(uspto),keywords\n",
    "content = r.json()\n",
    "#Ingreso al contenido\n",
    "json = content['results']\n",
    "\n",
    "for i in range(len(json)):\n",
    "    try:\n",
    "        listakeywords.append(json[i]['bibjson']['keywords'])\n",
    "        listalinks.append(json[i]['bibjson']['link'][0]['url'])\n",
    "        listatitulos.append(json[i]['bibjson']['title'])\n",
    "        listabstract.append(json[i]['bibjson']['abstract'])\n",
    "        listautor.append(json[i]['bibjson']['author'])\n",
    "        listafuente.append(\"doaj\")\n",
    "    except:\n",
    "        print(\"\")"
   ]
  },
  {
   "cell_type": "code",
   "execution_count": 806,
   "metadata": {},
   "outputs": [
    {
     "name": "stdout",
     "output_type": "stream",
     "text": [
      "link 370  title  370 abstract  370  authors  370  keywords  370 fuente 370\n"
     ]
    }
   ],
   "source": [
    "print('link',len(listalinks),' title ',len(listatitulos),'abstract ',len(listabstract),' authors ',len(listautor),\" keywords \",len(listakeywords),'fuente', len(listafuente))"
   ]
  },
  {
   "cell_type": "code",
   "execution_count": 807,
   "metadata": {},
   "outputs": [
    {
     "name": "stdout",
     "output_type": "stream",
     "text": [
      " \n",
      " \n",
      " \n",
      " \n",
      " \n",
      " \n",
      " \n",
      " \n",
      " \n",
      " \n",
      " \n",
      " \n",
      " \n",
      " \n",
      " \n",
      " \n",
      " \n",
      " \n",
      " \n",
      " \n",
      " \n",
      " \n",
      " \n",
      " \n",
      " \n"
     ]
    }
   ],
   "source": [
    "#Consumo api  de SCOPUS sobre titulo,url,abstract,nombre(uspto)\n",
    "for i in range(len(search_df['scopus_id'])):\n",
    "    try:\n",
    "        pub_abs = scopus.retrieve_abstract(search_df['scopus_id'][i])\n",
    "        listabstract.append(pub_abs['abstract'])\n",
    "        listalinks.append(\"https://www.scopus.com/inward/record.uri?partnerID=HzOxMe3b&scp=\"+search_df['scopus_id'][i]+\"&origin=inward\")\n",
    "        listatitulos.append(search_df['title'][i])\n",
    "        listautor.append(search_df['authors'][i])\n",
    "        listakeywords.append(\"0\")\n",
    "        listafuente.append(\"scopus\")\n",
    "    except:\n",
    "        print(\" \")"
   ]
  },
  {
   "cell_type": "code",
   "execution_count": 808,
   "metadata": {},
   "outputs": [
    {
     "name": "stdout",
     "output_type": "stream",
     "text": [
      "link 445  title  445 abstract  445  authors  445  keywords  445 fuente 445\n"
     ]
    }
   ],
   "source": [
    "print('link',len(listalinks),' title ',len(listatitulos),'abstract ',len(listabstract),' authors ',len(listautor),\" keywords \",len(listakeywords),'fuente', len(listafuente))"
   ]
  },
  {
   "cell_type": "code",
   "execution_count": 809,
   "metadata": {},
   "outputs": [],
   "source": [
    "#Consumo api  de ProQuest sobre titulo,url,abstract,nombre(uspto)\n",
    "json = d['searchResponse']['result']['doc']\n",
    "\n",
    "for i in range(len(json)):\n",
    "        #TITULO\n",
    "        listatitulos.append(json[i]['field'][1]['value'])\n",
    "        response2 = requests.get(json[i]['field'][3]['value'], headers=headers)\n",
    "        o1 = xmltodict.parse(response2.text)\n",
    "        \n",
    "        #LINK\n",
    "        listalinks.append(o1['Documents']['Literature']['DocInfo']['URL'])\n",
    "        \n",
    "        #ABSTRACT\n",
    "        try:\n",
    "            nivel5= o1['Documents']['Literature']['Abstract']\n",
    "            listabstract.append(nivel5.get('#text'))\n",
    "        except:\n",
    "            listabstract.append(\"NULL\")\n",
    "        \n",
    "        #Fuente\n",
    "        listafuente.append('ProQuest')\n",
    "        \n",
    "        \n",
    "        #Authores\n",
    "        try:\n",
    "            contributor=o1['Documents']['Literature']['Contributors']['Contributor']\n",
    "            aux=list()\n",
    "            for i in range(len(contributor)):\n",
    "                if(contributor[i]['@ContribRole']=='Author'):\n",
    "                    aux.append(contributor[i]['NormalizedName']+\" \"+contributor[i]['LastName'])\n",
    "            listautor.append(aux)\n",
    "        except:\n",
    "            listautor.append(\"NULL\")\n",
    "\n",
    "        try:\n",
    "            #Keywords\n",
    "            keywords=o1['Documents']['Literature']['Subjects']['HeadingTerms']['HeadingTerm']\n",
    "            aux=list()\n",
    "            for i in range(len(keywords)):\n",
    "                nivel9=keywords[i]['Heading']\n",
    "                aux.append(nivel9['#text'])\n",
    "            listakeywords.append(aux)\n",
    "        except:\n",
    "            print(\"error key\")\n",
    "            listakeywords.append('0')\n",
    "        "
   ]
  },
  {
   "cell_type": "code",
   "execution_count": 810,
   "metadata": {},
   "outputs": [
    {
     "name": "stdout",
     "output_type": "stream",
     "text": [
      "link 545  title  545 abstract  545  authors  545  keywords  545 fuente 545\n"
     ]
    }
   ],
   "source": [
    "print('link',len(listalinks),' title ',len(listatitulos),'abstract ',len(listabstract),' authors ',len(listautor),\" keywords \",len(listakeywords),'fuente', len(listafuente))"
   ]
  },
  {
   "cell_type": "code",
   "execution_count": 811,
   "metadata": {
    "scrolled": true
   },
   "outputs": [
    {
     "name": "stdout",
     "output_type": "stream",
     "text": [
      "2 Minute Medicine Rewind May 3, 2020\n",
      "The Future of Medicine Requires Investors Who Take the Long View\n",
      "National Academy of Medicine Names 10 Inaugural Scholars in ...\n",
      "BU School of Medicine Adds St. Elizabeth's Medical Center as New ...\n",
      "Cannabis is medicine. Just ask the parents of children with seizures\n",
      "Coeur d'Alene (WA) Wilderness Medicine Course Emphasizes Self ...\n",
      "Personalized Medicine For The Planet\n",
      "IQVIA study: World medicine spending to hit $1.6 trillion in 2025\n",
      "Michigan Medicine opens COVID-19 long-haul clinics\n",
      "Belmont to name College of Medicine in honor of Dr. Thomas F. Frist Jr.\n",
      "2 Minute Medicine\n",
      "Barron's\n",
      "National Academies\n",
      "Boston University\n",
      "Toronto Star\n",
      "JEMS\n",
      "Forbes\n",
      "Medical Economics\n",
      "MLive.com\n",
      "wsmv.com\n"
     ]
    }
   ],
   "source": [
    "\n",
    "title_noticias = soup.find_all('div', class_=\"BNeawe vvjwJb AP7Wnd\")\n",
    "for i in range(len(title_noticias)):\n",
    "    print(title_noticias[i].text)\n",
    "    listatitulos.append(title_noticias[i].text)\n",
    "\n",
    " \n",
    "    \n",
    "aux=list()\n",
    "abstract_noticias = soup.find_all('div', class_=\"BNeawe s3v9rd AP7Wnd\")\n",
    "for i in range(len(abstract_noticias)):\n",
    "    abstract_text=abstract_noticias[i].text\n",
    "    abstract1=abstract_text[abstract_text.find(' · ')+3:len(abstract_text)]\n",
    "    limpieza=abstract1.replace('... ','')\n",
    "    limpieza=limpieza.replace('...','')\n",
    "    aux.append(limpieza)\n",
    "    \n",
    "aux=pd.unique(aux)\n",
    "listabstract = np.append(listabstract,aux)\n",
    "\n",
    "aux=list()\n",
    "link_noticas = soup.find_all('div', class_=\"kCrYT\")\n",
    "\n",
    "for link_noticas in link_noticas:\n",
    "    if(str(link_noticas)[35:str(link_noticas).find('&amp')][0:5]=='https'):\n",
    "        aux.append(str(link_noticas)[35:str(link_noticas).find('&amp')])\n",
    "\n",
    "aux=pd.unique(aux)\n",
    "listalinks = np.append(listalinks,aux)\n",
    "\n",
    "\n",
    "author_noticas = soup.find_all('div', class_=\"BNeawe UPmit AP7Wnd\")\n",
    "for i in range(10):\n",
    "    print(author_noticas[i].text)\n",
    "    listautor.append(author_noticas[i].text)\n",
    "    listafuente.append('google noticias')\n",
    "    listakeywords.append('0')\n",
    "\n"
   ]
  },
  {
   "cell_type": "code",
   "execution_count": 812,
   "metadata": {},
   "outputs": [
    {
     "name": "stdout",
     "output_type": "stream",
     "text": [
      "link 555  title  555 abstract  555  authors  555  keywords  555 fuente 555\n"
     ]
    }
   ],
   "source": [
    "print('link',len(listalinks),' title ',len(listatitulos),'abstract ',len(listabstract),' authors ',len(listautor),\" keywords \",len(listakeywords),'fuente', len(listafuente))"
   ]
  },
  {
   "cell_type": "code",
   "execution_count": 813,
   "metadata": {},
   "outputs": [],
   "source": [
    "diccionario ={'link':listalinks ,'title':listatitulos,'abstract':listabstract,'authors':listautor,\"keywords\":listakeywords,'fuente':listafuente}"
   ]
  },
  {
   "cell_type": "code",
   "execution_count": null,
   "metadata": {},
   "outputs": [],
   "source": []
  },
  {
   "cell_type": "code",
   "execution_count": null,
   "metadata": {},
   "outputs": [],
   "source": []
  },
  {
   "cell_type": "code",
   "execution_count": 814,
   "metadata": {},
   "outputs": [
    {
     "name": "stdout",
     "output_type": "stream",
     "text": [
      "                                                  link  \\\n",
      "0    https://ieeexplore.ieee.org/stamp/stamp.jsp?tp...   \n",
      "1    https://ieeexplore.ieee.org/stamp/stamp.jsp?tp...   \n",
      "2    https://ieeexplore.ieee.org/stamp/stamp.jsp?tp...   \n",
      "3    https://ieeexplore.ieee.org/stamp/stamp.jsp?tp...   \n",
      "4    https://ieeexplore.ieee.org/stamp/stamp.jsp?tp...   \n",
      "..                                                 ...   \n",
      "550  https://www.jems.com/news/coeur-dalene-wa-wild...   \n",
      "551  https://www.forbes.com/sites/jeffopperman/2021...   \n",
      "552  https://www.medicaleconomics.com/view/iqvia-st...   \n",
      "553  https://www.mlive.com/news/ann-arbor/2021/05/m...   \n",
      "554  https://www.wsmv.com/news/davidson_county/belm...   \n",
      "\n",
      "                                                 title  \\\n",
      "0    Simulations of foot stability during gait char...   \n",
      "1     Reciprocal EMG control of elbow extension by FES   \n",
      "2    Finite element modeling of electromagnetic sig...   \n",
      "3    Interaction of array of finite electrodes with...   \n",
      "4    Kinematic modeling for the assessment of wheel...   \n",
      "..                                                 ...   \n",
      "550  Coeur d'Alene (WA) Wilderness Medicine Course ...   \n",
      "551               Personalized Medicine For The Planet   \n",
      "552  IQVIA study: World medicine spending to hit $1...   \n",
      "553  Michigan Medicine opens COVID-19 long-haul cli...   \n",
      "554  Belmont to name College of Medicine in honor o...   \n",
      "\n",
      "                                              abstract  \\\n",
      "0    Falls are common among the elderly and often c...   \n",
      "1    Elbow extension is critical in performing acti...   \n",
      "2    Improving the control of artificial arms remai...   \n",
      "3    A hybrid scheme, combining image series and mo...   \n",
      "4    A computer kinematic model was developed to si...   \n",
      "..                                                 ...   \n",
      "550  Wilderness medicine is a relatively new field,...   \n",
      "551  Why are freshwater systems so often overlooked...   \n",
      "552  The global medicine market is expected to reac...   \n",
      "553  Michigan Medicine is establishing clinics to p...   \n",
      "554  College of Medicine at Belmont University enjo...   \n",
      "\n",
      "                                               authors  \\\n",
      "0                                           [A. Gefen]   \n",
      "1                         [J.P. Giuffrida, P.E. Crago]   \n",
      "2    [T.A. Kuiken, N.S. Stoykov, M. Popovic, M. Low...   \n",
      "3           [L.M. Livshitz, J. Mizrahi, P.D. Einziger]   \n",
      "4    [D. Pavec, C.-E. Aubin, R. Aissaoui, F. Parent...   \n",
      "..                                                 ...   \n",
      "550                                               JEMS   \n",
      "551                                             Forbes   \n",
      "552                                  Medical Economics   \n",
      "553                                          MLive.com   \n",
      "554                                           wsmv.com   \n",
      "\n",
      "                                              keywords           fuente  \n",
      "0    [Foot, Senior citizens, Muscles, Stability ana...       ieeexplore  \n",
      "1    [Electromyography, Elbow, Muscles, Spinal cord...       ieeexplore  \n",
      "2    [Finite element methods, Electromagnetic model...       ieeexplore  \n",
      "3    [Electrodes, Biological tissues, Muscles, Mome...       ieeexplore  \n",
      "4    [Kinematics, Wheelchairs, Stability, Biologica...       ieeexplore  \n",
      "..                                                 ...              ...  \n",
      "550                                                  0  google noticias  \n",
      "551                                                  0  google noticias  \n",
      "552                                                  0  google noticias  \n",
      "553                                                  0  google noticias  \n",
      "554                                                  0  google noticias  \n",
      "\n",
      "[555 rows x 6 columns]\n"
     ]
    }
   ],
   "source": [
    "dataset=pd.DataFrame(diccionario)\n",
    "print(dataset)"
   ]
  },
  {
   "cell_type": "code",
   "execution_count": 815,
   "metadata": {},
   "outputs": [],
   "source": [
    "dataset.to_csv('resultado.csv')"
   ]
  },
  {
   "cell_type": "code",
   "execution_count": 466,
   "metadata": {},
   "outputs": [
    {
     "name": "stdout",
     "output_type": "stream",
     "text": [
      "\u001b[H\u001b[2J"
     ]
    }
   ],
   "source": [
    "clear"
   ]
  },
  {
   "cell_type": "code",
   "execution_count": null,
   "metadata": {},
   "outputs": [],
   "source": []
  },
  {
   "cell_type": "code",
   "execution_count": null,
   "metadata": {},
   "outputs": [],
   "source": []
  },
  {
   "cell_type": "code",
   "execution_count": null,
   "metadata": {},
   "outputs": [],
   "source": []
  },
  {
   "cell_type": "code",
   "execution_count": null,
   "metadata": {},
   "outputs": [],
   "source": []
  },
  {
   "cell_type": "code",
   "execution_count": null,
   "metadata": {},
   "outputs": [],
   "source": []
  },
  {
   "cell_type": "code",
   "execution_count": null,
   "metadata": {},
   "outputs": [],
   "source": []
  }
 ],
 "metadata": {
  "kernelspec": {
   "display_name": "Python 3",
   "language": "python",
   "name": "python3"
  },
  "language_info": {
   "codemirror_mode": {
    "name": "ipython",
    "version": 3
   },
   "file_extension": ".py",
   "mimetype": "text/x-python",
   "name": "python",
   "nbconvert_exporter": "python",
   "pygments_lexer": "ipython3",
   "version": "3.8.5"
  }
 },
 "nbformat": 4,
 "nbformat_minor": 4
}
