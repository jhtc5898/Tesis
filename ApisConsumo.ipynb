{
 "cells": [
  {
   "cell_type": "code",
   "execution_count": 334,
   "metadata": {},
   "outputs": [],
   "source": [
    "from pyscopus import Scopus\n",
    "import pandas as pd\n",
    "import requests\n",
    "import xmltodict, json\n",
    "\n",
    "\n",
    "from lxml import etree\n",
    "import requests\n",
    "import xmltodict, json"
   ]
  },
  {
   "cell_type": "code",
   "execution_count": null,
   "metadata": {},
   "outputs": [],
   "source": []
  },
  {
   "cell_type": "code",
   "execution_count": 335,
   "metadata": {},
   "outputs": [
    {
     "name": "stdout",
     "output_type": "stream",
     "text": [
      "Ingrese el dato a buscar:\n",
      "medicine\n"
     ]
    }
   ],
   "source": [
    "print(\"Ingrese el dato a buscar:\")\n",
    "busqueda = input()"
   ]
  },
  {
   "cell_type": "code",
   "execution_count": 336,
   "metadata": {},
   "outputs": [],
   "source": [
    "#Consumo API de SCOPUS"
   ]
  },
  {
   "cell_type": "code",
   "execution_count": 337,
   "metadata": {},
   "outputs": [],
   "source": [
    "key = '0387c7142db3254ed53c09c131ecf8c0'\n",
    "scopus = Scopus(key)\n",
    "search_df = scopus.search(\"ALL(\"+busqueda+\")\", count=100)"
   ]
  },
  {
   "cell_type": "code",
   "execution_count": 338,
   "metadata": {},
   "outputs": [],
   "source": [
    "#Consumo API de DOAJ"
   ]
  },
  {
   "cell_type": "code",
   "execution_count": 339,
   "metadata": {},
   "outputs": [],
   "source": [
    "url = 'https://www.doaj.org/api/v2/search/articles/all('+busqueda+')?pageSize=100'\n",
    "headers = {'Content-Type': 'application/json;charset=UTF-8', 'Access-Control-Allow-Origin': '*'}\n",
    "r = requests.get(url, headers=headers)"
   ]
  },
  {
   "cell_type": "code",
   "execution_count": 340,
   "metadata": {},
   "outputs": [],
   "source": [
    "#Consumo API de propiedad Inletectual"
   ]
  },
  {
   "cell_type": "code",
   "execution_count": 341,
   "metadata": {},
   "outputs": [],
   "source": [
    "url_uspto = 'https://developer.uspto.gov/ibd-api/v1/application/publications?searchText='+busqueda+'&start=0&rows=100'\n",
    "headers_uspto = {'Content-Type': 'application/json;charset=UTF-8', 'Access-Control-Allow-Origin': '*'}\n",
    "r2_uspto = requests.get(url_uspto, headers=headers_uspto) "
   ]
  },
  {
   "cell_type": "code",
   "execution_count": 342,
   "metadata": {},
   "outputs": [],
   "source": [
    "#Consumo API deProQuest"
   ]
  },
  {
   "cell_type": "code",
   "execution_count": 343,
   "metadata": {},
   "outputs": [],
   "source": [
    "access_token = '8461684a-5a79-407c-9321-93d8d719ddeb'\n",
    "headers = {\n",
    "    'Content-type': 'text/xml',\n",
    "    'Authorization': 'Bearer {}'.format(access_token)\n",
    "}\n",
    "data = '<searchRequest><search><query>'+busqueda+'</query><databases><database>medlineprof</database></databases></search><count>100</count></searchRequest>'\n",
    "resp = requests.post('https://api-dialog.proquest.com/v1/search', headers=headers, data=data)\n",
    "o = xmltodict.parse(resp.text)\n",
    "conta = json.dumps(o)\n",
    "d = json.loads(conta)\n"
   ]
  },
  {
   "cell_type": "code",
   "execution_count": 344,
   "metadata": {},
   "outputs": [],
   "source": [
    "#Declaracion \n",
    "listalinks = list()\n",
    "listatitulos = list()\n",
    "listabstract = list()\n",
    "listautor= list()\n",
    "listakeywords = list()\n",
    "listafuente = list()\n"
   ]
  },
  {
   "cell_type": "code",
   "execution_count": 345,
   "metadata": {},
   "outputs": [],
   "source": [
    "#Consumo api  de propiedad intelectual sobre titulo,url,abstract,nombre(uspto)\n",
    "content_uspto = r2_uspto.json()\n",
    "json_uspto = content_uspto['results']\n",
    "\n",
    "for i in range(len(json_uspto)):\n",
    "    try:\n",
    "\n",
    "        listakeywords.append(0)\n",
    "        listafuente.append(\"uspto\")\n",
    "        \n",
    "        nivel1=json_uspto[i]['inventionTitle']\n",
    "        listatitulos.append(nivel1)\n",
    "        \n",
    "        nivel2=json_uspto[i]['filelocationURI']\n",
    "        listalinks.append(nivel2)\n",
    "        \n",
    "        nivel3=json_uspto[i]['abstractText'][0]\n",
    "        listabstract.append(nivel3)\n",
    "        \n",
    "        nivel4=json_uspto[i]['assigneeEntityName']\n",
    "        listautor.append(nivel4)\n",
    "    except:\n",
    "        print(\" \")\n"
   ]
  },
  {
   "cell_type": "code",
   "execution_count": 346,
   "metadata": {},
   "outputs": [
    {
     "name": "stdout",
     "output_type": "stream",
     "text": [
      "\n",
      "\n",
      "\n",
      "\n",
      "\n",
      "\n",
      "\n",
      "\n",
      "\n",
      "\n",
      "\n",
      "\n",
      "\n",
      "\n",
      "\n",
      "\n",
      "\n",
      "\n",
      "\n",
      "\n",
      "\n",
      "\n",
      "\n",
      "\n",
      "\n",
      "\n",
      "\n",
      "\n"
     ]
    }
   ],
   "source": [
    "#Consumo api  de doaj sobre titulo,url,abstract,author(uspto),keywords\n",
    "content = r.json()\n",
    "#Ingreso al contenido\n",
    "json = content['results']\n",
    "\n",
    "for i in range(len(json)):\n",
    "    try:\n",
    "\n",
    "        nivel4=json[i]['bibjson']['keywords']\n",
    "        listakeywords.append(nivel4)\n",
    "        nivel1=json[i]['bibjson']['link'][0]['url']\n",
    "        listalinks.append(nivel1)\n",
    "        nivel2=json[i]['bibjson']['title']\n",
    "        listatitulos.append(nivel2)\n",
    "        nivel3=json[i]['bibjson']['abstract']\n",
    "        listabstract.append(nivel3)\n",
    "        nivel4=json[i]['bibjson']['author']\n",
    "        listautor.append(nivel4)\n",
    "        listafuente.append(\"doaj\")\n",
    "        \n",
    "    except:\n",
    "        print(\"\")"
   ]
  },
  {
   "cell_type": "code",
   "execution_count": 347,
   "metadata": {},
   "outputs": [
    {
     "name": "stdout",
     "output_type": "stream",
     "text": [
      " \n",
      " \n",
      " \n",
      " \n",
      " \n",
      " \n",
      " \n",
      " \n",
      " \n"
     ]
    }
   ],
   "source": [
    "#Consumo api  de SCOPUS sobre titulo,url,abstract,nombre(uspto)\n",
    "for i in range(len(search_df['scopus_id'])):\n",
    "    try:\n",
    "        pub_abs = scopus.retrieve_abstract(search_df['scopus_id'][i])\n",
    "        listabstract.append(pub_abs['abstract'])\n",
    "        listalinks.append(\"https://www.scopus.com/inward/record.uri?partnerID=HzOxMe3b&scp=\"+search_df['scopus_id'][i]+\"&origin=inward\")\n",
    "        listatitulos.append(search_df['title'][i])\n",
    "        listautor.append(search_df['authors'][i])\n",
    "        listakeywords.append(\"0\")\n",
    "        listafuente.append(\"scopus\")\n",
    "    except:\n",
    "        print(\" \")\n",
    "\n",
    "\n"
   ]
  },
  {
   "cell_type": "code",
   "execution_count": 348,
   "metadata": {},
   "outputs": [],
   "source": [
    "#Consumo api  de ProQuest sobre titulo,url,abstract,nombre(uspto)\n",
    "json = d['searchResponse']['result']['doc']\n",
    "\n",
    "for i in range(len(json)):\n",
    "\n",
    "        #TITULO\n",
    "        nivel1=json[i]['field'][1]['value']\n",
    "        listatitulos.append(nivel1)\n",
    "        nivel2=json[i]['field'][3]['value']\n",
    "        response2 = requests.get(nivel2, headers=headers)\n",
    "        o1 = xmltodict.parse(response2.text)\n",
    "        \n",
    "        #LINK\n",
    "        listalinks.append(o1['Documents']['Literature']['DocInfo']['URL'])\n",
    "        \n",
    "        #Fuente\n",
    "        listafuente.append('ProQuest')\n",
    "        \n",
    "        lista\n",
    "        #Authores\n",
    "        try:\n",
    "            \n",
    "            contributor=o1['Documents']['Literature']['Contributors']['Contributor']\n",
    "            aux=list()\n",
    "            for i in range(len(contributor)):\n",
    "                #print(contributor[i])\n",
    "                if(contributor[i]['@ContribRole']=='Author'):\n",
    "                    aux.append(contributor[i]['NormalizedName']+\" \"+contributor[i]['LastName'])\n",
    "            listautor.append(aux)\n",
    "        except: \n",
    "             listautor.append(\"NULL\")\n",
    "\n",
    "        #Keywords\n",
    "        keywords=o1['Documents']['Literature']['Subjects']['HeadingTerms']['HeadingTerm']\n",
    "        aux=list()\n",
    "        for i in range(len(keywords)):\n",
    "            nivel9=keywords[i]['Heading']\n",
    "            aux.append(nivel9['#text'])\n",
    "        listakeywords.append(aux)\n",
    "        \n",
    "        #ABSTRACT\n",
    "        try:\n",
    "            nivel5= o1['Documents']['Literature']['Abstract']\n",
    "            listabstract.append(nivel5.get('#text'))\n",
    "        except: \n",
    "            listabstract.append(\"NULL\")"
   ]
  },
  {
   "cell_type": "code",
   "execution_count": 349,
   "metadata": {},
   "outputs": [],
   "source": [
    "diccionario ={'link':listalinks ,'title':listatitulos,'abstract':listabstract,'authors':listautor,\"keywords\":listakeywords,'fuente':listafuente}"
   ]
  },
  {
   "cell_type": "code",
   "execution_count": 350,
   "metadata": {},
   "outputs": [
    {
     "name": "stdout",
     "output_type": "stream",
     "text": [
      "                                                  link  \\\n",
      "0    https://developer-hub.s3.amazonaws.com/publica...   \n",
      "1    https://developer-hub.s3.amazonaws.com/publica...   \n",
      "2    https://developer-hub.s3.amazonaws.com/publica...   \n",
      "3    https://developer-hub.s3.amazonaws.com/publica...   \n",
      "4    https://developer-hub.s3.amazonaws.com/publica...   \n",
      "..                                                 ...   \n",
      "358  http://dialog.proquest.com/professional/docvie...   \n",
      "359  http://dialog.proquest.com/professional/docvie...   \n",
      "360  http://dialog.proquest.com/professional/docvie...   \n",
      "361  http://dialog.proquest.com/professional/docvie...   \n",
      "362  http://dialog.proquest.com/professional/docvie...   \n",
      "\n",
      "                                                 title  \\\n",
      "0    ULTRA-SMALL ICE, USES THEREOF AND APPARATUS FO...   \n",
      "1                    Apparatus for Producing Flake Ice   \n",
      "2       Device for Controlling Leaks From an Endoscope   \n",
      "3    DELIVERY DEVICE FOR DISPENSING PHARMACEUTICAL ...   \n",
      "4       LIQUID COLLECTING SYSTEM AND A METHOD THEREFOR   \n",
      "..                                                 ...   \n",
      "358  Efficacy of cilazapril compared with hydrochlo...   \n",
      "359  Left ventricular diastolic dysfunction and car...   \n",
      "360                Clinical pharmacology of cilazapril   \n",
      "361  Cilazapril: a new non-thiol-containing angiote...   \n",
      "362  Long-term evaluation of cilazapril in severe h...   \n",
      "\n",
      "                                              abstract  \\\n",
      "0    Compositions of matter, uses thereof and an ap...   \n",
      "1    An apparatus for producing flake ice from a li...   \n",
      "2    The invention relates to a device for controll...   \n",
      "3    The present invention provides a dissolution t...   \n",
      "4    A blood collecting apparatus includes a cleani...   \n",
      "..                                                 ...   \n",
      "358  The effect of cilazapril, a new inhibitor of a...   \n",
      "359  The determinants and physiologic consequences ...   \n",
      "360  In clinical pharmacology studies cilazapril, a...   \n",
      "361  Cilazapril is a structurally new angiotensin-c...   \n",
      "362  The effect of cilazapril as monotherapy or in ...   \n",
      "\n",
      "                                               authors  \\\n",
      "0                                        NanoICE, Inc.   \n",
      "1     MAJA-Maschinenfabrik Hermann Schill GmbH & Co.KG   \n",
      "2                                                 None   \n",
      "3                                                 None   \n",
      "4                                                 None   \n",
      "..                                                 ...   \n",
      "358                               [Morgan, T O Morgan]   \n",
      "359                   [Fouad-Tarazi, F M Fouad-Tarazi]   \n",
      "360  [Kleinbloesem, C H Kleinbloesem, Van Brummelen...   \n",
      "361                                 [Kögler, P Kögler]   \n",
      "362  [Sánchez, R A Sánchez, Traballi, C A Traballi,...   \n",
      "\n",
      "                                              keywords    fuente  \n",
      "0                                                    0     uspto  \n",
      "1                                                    0     uspto  \n",
      "2                                                    0     uspto  \n",
      "3                                                    0     uspto  \n",
      "4                                                    0     uspto  \n",
      "..                                                 ...       ...  \n",
      "358  [Adolescent, Adult, Aged, Angiotensin-Converti...  ProQuest  \n",
      "359  [Diastole, Heart, Heart Ventricles, Humans, Hy...  ProQuest  \n",
      "360  [Angiotensin-Converting Enzyme Inhibitors, Ang...  ProQuest  \n",
      "361  [Aged, Angiotensin-Converting Enzyme Inhibitor...  ProQuest  \n",
      "362  [Adult, Aged, Angiotensin-Converting Enzyme In...  ProQuest  \n",
      "\n",
      "[363 rows x 6 columns]\n"
     ]
    }
   ],
   "source": [
    "dataset=pd.DataFrame(diccionario)\n",
    "print(dataset)"
   ]
  },
  {
   "cell_type": "code",
   "execution_count": 351,
   "metadata": {},
   "outputs": [],
   "source": [
    "dataset.to_csv('resultado.csv')"
   ]
  },
  {
   "cell_type": "code",
   "execution_count": null,
   "metadata": {},
   "outputs": [],
   "source": []
  },
  {
   "cell_type": "code",
   "execution_count": null,
   "metadata": {},
   "outputs": [],
   "source": []
  },
  {
   "cell_type": "code",
   "execution_count": null,
   "metadata": {},
   "outputs": [],
   "source": []
  },
  {
   "cell_type": "code",
   "execution_count": null,
   "metadata": {},
   "outputs": [],
   "source": []
  },
  {
   "cell_type": "code",
   "execution_count": null,
   "metadata": {},
   "outputs": [],
   "source": []
  },
  {
   "cell_type": "code",
   "execution_count": null,
   "metadata": {},
   "outputs": [],
   "source": []
  },
  {
   "cell_type": "code",
   "execution_count": null,
   "metadata": {},
   "outputs": [],
   "source": []
  }
 ],
 "metadata": {
  "kernelspec": {
   "display_name": "Python 3",
   "language": "python",
   "name": "python3"
  },
  "language_info": {
   "codemirror_mode": {
    "name": "ipython",
    "version": 3
   },
   "file_extension": ".py",
   "mimetype": "text/x-python",
   "name": "python",
   "nbconvert_exporter": "python",
   "pygments_lexer": "ipython3",
   "version": "3.8.5"
  }
 },
 "nbformat": 4,
 "nbformat_minor": 4
}
